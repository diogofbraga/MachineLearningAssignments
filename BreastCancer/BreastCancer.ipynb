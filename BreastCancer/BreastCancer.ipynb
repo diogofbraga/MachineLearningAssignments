{
 "cells": [
  {
   "cell_type": "markdown",
   "metadata": {},
   "source": [
    "# Breast Cancer\n",
    "\n",
    "**Data Set Information:**\n",
    "\n",
    "There are two classes (binary classification): “no-recurrence-events” and “recurrence-events”, that describe whether the patient’s cancer reappeared after treatment. The other 9 attributes contain general information about the patients themselves as well as more specific information about their individual cancer diagnoses. Using this information the goal is to classify whether a patient will have breast cancer again, or not\n",
    "\n",
    "\n",
    "**Attribute Information:**\n",
    "\n",
    "**- Class:** Describes if a patient had recurrent tumors;<br>\n",
    "**- age:** Age listed in Interval of 10 years;<br>\n",
    "**- menopause:** Nominal Short text description;<br>\n",
    "**- tumor-size:** Interval in which falls the diamater of tumor falls;<br>\n",
    "**- inv-nodes:** Interval in which falls the number of lymph-nodes in close proximity of the tumor;<br>\n",
    "**- node-caps:** Nominal Describe whenever there're metastases or not;<br>\n",
    "**- deg-malig:** Numerical Describe how bad the cancer is;<br>\n",
    "**- breast:** Nominal Describe the afflicted breast;<br>\n",
    "**- breast-quad:** Nominal Text representing the location of  tumor in the breast.<br>\n",
    "**- irradiate** Nominal yes/no Indicates whenever the patient underwent radiation therapy."
   ]
  },
  {
   "cell_type": "markdown",
   "metadata": {},
   "source": [
    "### Import Libraries"
   ]
  },
  {
   "cell_type": "code",
   "execution_count": null,
   "metadata": {},
   "outputs": [],
   "source": [
    "import pandas as pd\n",
    "import numpy as np\n",
    "import matplotlib.pyplot as plt\n",
    "import seaborn as sns\n",
    "import time\n",
    "from scipy import stats\n",
    "from sklearn import preprocessing\n",
    "from sklearn.preprocessing import StandardScaler, RobustScaler, MinMaxScaler, Normalizer\n",
    "from sklearn import tree\n",
    "from sklearn.tree import DecisionTreeClassifier\n",
    "from sklearn.metrics import classification_report, confusion_matrix, accuracy_score\n",
    "from sklearn.naive_bayes import GaussianNB\n",
    "from sklearn.neighbors import KNeighborsClassifier\n",
    "from sklearn.linear_model import LogisticRegression, SGDClassifier\n",
    "from sklearn.feature_selection import SelectPercentile, chi2, SelectFromModel\n",
    "from sklearn.model_selection import train_test_split, cross_val_score, GridSearchCV, RandomizedSearchCV\n",
    "from sklearn.svm import SVC, LinearSVC\n",
    "from sklearn.gaussian_process import GaussianProcessClassifier\n",
    "from sklearn.ensemble import ExtraTreesClassifier, RandomForestClassifier\n",
    "from sklearn.neural_network import MLPClassifier"
   ]
  },
  {
   "cell_type": "markdown",
   "metadata": {},
   "source": [
    "### Get the data"
   ]
  },
  {
   "cell_type": "code",
   "execution_count": null,
   "metadata": {},
   "outputs": [],
   "source": [
    "data = pd.read_csv('breast-cancer.csv')"
   ]
  },
  {
   "cell_type": "markdown",
   "metadata": {},
   "source": [
    "*Remove quotation marks*"
   ]
  },
  {
   "cell_type": "code",
   "execution_count": null,
   "metadata": {},
   "outputs": [],
   "source": [
    "for column in data:\n",
    "    data[column] = data[column].map(lambda x: x.lstrip(\"'\").rstrip(\"'\"))"
   ]
  },
  {
   "cell_type": "code",
   "execution_count": null,
   "metadata": {},
   "outputs": [],
   "source": [
    "data.head()"
   ]
  },
  {
   "cell_type": "markdown",
   "metadata": {},
   "source": [
    "### Basic Data Information"
   ]
  },
  {
   "cell_type": "code",
   "execution_count": null,
   "metadata": {},
   "outputs": [],
   "source": [
    "data.info()"
   ]
  },
  {
   "cell_type": "code",
   "execution_count": null,
   "metadata": {},
   "outputs": [],
   "source": [
    "data.describe()"
   ]
  },
  {
   "cell_type": "markdown",
   "metadata": {},
   "source": [
    "### Check missing values"
   ]
  },
  {
   "cell_type": "code",
   "execution_count": null,
   "metadata": {},
   "outputs": [],
   "source": [
    "data.loc[(data['age'] == '?') | (data['menopause'] == '?') | \\\n",
    "         (data['tumor-size'] == '?') | (data['inv-nodes'] == '?') | \\\n",
    "         (data['node-caps'] == '?') | (data['deg-malig'] == '?') | \\\n",
    "         (data['breast'] == '?') | (data['breast-quad'] == '?') | \\\n",
    "         (data['irradiat'] == '?') | (data['Class'] == '?')] "
   ]
  },
  {
   "cell_type": "markdown",
   "metadata": {},
   "source": [
    "*Convert missing data (indicated by a ?) into NaN*"
   ]
  },
  {
   "cell_type": "code",
   "execution_count": null,
   "metadata": {},
   "outputs": [
    {
     "name": "stdout",
     "output_type": "stream",
     "text": [
      "age            0\n",
      "menopause      0\n",
      "tumor-size     0\n",
      "inv-nodes      0\n",
      "node-caps      8\n",
      "deg-malig      0\n",
      "breast         0\n",
      "breast-quad    1\n",
      "irradiat       0\n",
      "Class          0\n",
      "dtype: int64\n"
     ]
    }
   ],
   "source": [
    "data.replace(\"?\", np.nan, inplace = True)\n",
    "print(data.isnull().sum())"
   ]
  },
  {
   "cell_type": "markdown",
   "metadata": {},
   "source": [
    "*Fill missing value with median*"
   ]
  },
  {
   "cell_type": "code",
   "execution_count": null,
   "metadata": {},
   "outputs": [],
   "source": [
    "data = data.fillna(data.mode().iloc[0])\n",
    "#data = data.dropna()"
   ]
  },
  {
   "cell_type": "code",
   "execution_count": null,
   "metadata": {},
   "outputs": [],
   "source": [
    "print(data.isnull().sum())"
   ]
  },
  {
   "cell_type": "markdown",
   "metadata": {},
   "source": [
    "# Exploratory Data Analysis"
   ]
  },
  {
   "cell_type": "code",
   "execution_count": null,
   "metadata": {},
   "outputs": [],
   "source": [
    "c_palette = ['tab:red','tab:green']"
   ]
  },
  {
   "cell_type": "markdown",
   "metadata": {},
   "source": [
    "*Countplot of the Target* "
   ]
  },
  {
   "cell_type": "code",
   "execution_count": null,
   "metadata": {},
   "outputs": [],
   "source": [
    "sns.set_style('darkgrid')\n",
    "ax = sns.countplot(x = data['Class'], palette=c_palette)\n",
    "\n",
    "total = len(data['Class'])\n",
    "\n",
    "for p in ax.patches:\n",
    "    height = p.get_height()\n",
    "    ax.text(p.get_x()+p.get_width()/2.,\n",
    "            height + 3,\n",
    "            '{:.1f}%'.format(100 * height/total),\n",
    "            ha=\"center\")"
   ]
  },
  {
   "cell_type": "markdown",
   "metadata": {},
   "source": [
    "**Class on Age Interval**"
   ]
  },
  {
   "cell_type": "code",
   "execution_count": null,
   "metadata": {},
   "outputs": [],
   "source": [
    "plt.figure(figsize=(12, 5))\n",
    "sns.countplot(y=\"age\", hue=\"Class\", data=data, palette=c_palette)\n",
    "plt.show()"
   ]
  },
  {
   "cell_type": "markdown",
   "metadata": {},
   "source": [
    "**Class on Menopause**"
   ]
  },
  {
   "cell_type": "code",
   "execution_count": null,
   "metadata": {},
   "outputs": [],
   "source": [
    "plt.figure(figsize=(12, 5))\n",
    "sns.countplot(y=\"menopause\", hue=\"Class\", data=data, palette=c_palette)\n",
    "plt.show()"
   ]
  },
  {
   "cell_type": "markdown",
   "metadata": {},
   "source": [
    "**Class on Breast**"
   ]
  },
  {
   "cell_type": "code",
   "execution_count": null,
   "metadata": {},
   "outputs": [],
   "source": [
    "plt.figure(figsize=(12, 5))\n",
    "sns.countplot(y=\"breast\", hue=\"Class\", data=data, palette=c_palette)\n",
    "plt.show()"
   ]
  },
  {
   "cell_type": "markdown",
   "metadata": {},
   "source": [
    "**Class on Breast-Quad**"
   ]
  },
  {
   "cell_type": "markdown",
   "metadata": {},
   "source": [
    "*Divide par Left/Right breast*"
   ]
  },
  {
   "cell_type": "code",
   "execution_count": null,
   "metadata": {},
   "outputs": [],
   "source": [
    "right_b = data.loc[data['breast'] == 'right']\n",
    "left_b = data.loc[data['breast'] == 'left']"
   ]
  },
  {
   "cell_type": "code",
   "execution_count": null,
   "metadata": {},
   "outputs": [],
   "source": [
    "fig = plt.figure(figsize = (15,10))\n",
    "ax1 = fig.add_subplot(2,1,1)\n",
    "sns.countplot(y=left_b['breast-quad'], hue=\"Class\", data=data, ax = ax1, palette=c_palette)\n",
    "ax1.set(ylabel='Left Breast')\n",
    "\n",
    "ax2 = fig.add_subplot(2,1,2)\n",
    "sns.countplot(y=right_b['breast-quad'], hue=\"Class\", data=data, ax=ax2, palette=c_palette)\n",
    "ax2.set(ylabel='Right Breast')"
   ]
  },
  {
   "cell_type": "markdown",
   "metadata": {},
   "source": [
    "**Class on Degree of Malignancy**"
   ]
  },
  {
   "cell_type": "code",
   "execution_count": null,
   "metadata": {},
   "outputs": [],
   "source": [
    "fig = plt.figure(figsize = (15,10))\n",
    "ax1 = fig.add_subplot(2,2,1)\n",
    "deg_malig = data['deg-malig'].astype(float)\n",
    "sns.violinplot(data = data, x='Class', y=deg_malig, ax=ax1, palette=c_palette)\n",
    "sns.swarmplot(data = data, x='Class', y='deg-malig', color = 'k', alpha = 0.6, ax=ax1)"
   ]
  },
  {
   "cell_type": "markdown",
   "metadata": {},
   "source": [
    "**Class on Lymph-Nodes**"
   ]
  },
  {
   "cell_type": "code",
   "execution_count": null,
   "metadata": {},
   "outputs": [],
   "source": [
    "plt.figure(figsize=(12, 5))\n",
    "sns.countplot(y=\"inv-nodes\", hue=\"Class\", data=data, palette=c_palette)\n",
    "plt.show()"
   ]
  },
  {
   "cell_type": "markdown",
   "metadata": {},
   "source": [
    "**Class on Metastases**"
   ]
  },
  {
   "cell_type": "code",
   "execution_count": null,
   "metadata": {},
   "outputs": [],
   "source": [
    "plt.figure(figsize=(12, 5))\n",
    "sns.countplot(y=\"node-caps\", hue=\"Class\", data=data, palette=c_palette)\n",
    "plt.show()"
   ]
  },
  {
   "cell_type": "markdown",
   "metadata": {},
   "source": [
    "**Class on Irradiate**"
   ]
  },
  {
   "cell_type": "code",
   "execution_count": null,
   "metadata": {},
   "outputs": [],
   "source": [
    "plt.figure(figsize=(12, 5))\n",
    "sns.countplot(y=\"irradiat\", hue=\"Class\", data=data, palette=c_palette)\n",
    "plt.show()"
   ]
  },
  {
   "cell_type": "markdown",
   "metadata": {},
   "source": [
    "# Classifier "
   ]
  },
  {
   "cell_type": "markdown",
   "metadata": {},
   "source": [
    "#### Import Libraries"
   ]
  },
  {
   "cell_type": "code",
   "execution_count": null,
   "metadata": {},
   "outputs": [],
   "source": [
    "from sklearn.model_selection import train_test_split\n",
    "\n",
    "from sklearn.tree import DecisionTreeClassifier\n",
    "from sklearn.metrics import classification_report, confusion_matrix\n",
    "from sklearn.naive_bayes import GaussianNB\n",
    "from sklearn.neighbors import KNeighborsClassifier\n",
    "from sklearn import preprocessing\n",
    "\n",
    "from sklearn.linear_model import LogisticRegression\n",
    "from sklearn.discriminant_analysis import LinearDiscriminantAnalysis\n",
    "from sklearn.naive_bayes import GaussianNB\n",
    "from sklearn.svm import SVC"
   ]
  },
  {
   "cell_type": "markdown",
   "metadata": {},
   "source": [
    "#### General pre-processing"
   ]
  },
  {
   "cell_type": "markdown",
   "metadata": {},
   "source": [
    "#### Encode Class Feature"
   ]
  },
  {
   "cell_type": "code",
   "execution_count": null,
   "metadata": {},
   "outputs": [],
   "source": [
    "#Encode the Class feature to be a binary one\n",
    "data['Class'][data.Class == 'recurrence-events'] = 1\n",
    "data['Class'][data.Class == 'no-recurrence-events'] = 0"
   ]
  },
  {
   "cell_type": "markdown",
   "metadata": {},
   "source": [
    "#### Preprocess Ordinal Data (LabelEncoder)"
   ]
  },
  {
   "cell_type": "code",
   "execution_count": null,
   "metadata": {},
   "outputs": [],
   "source": [
    "#replace binary data\n",
    "data = data.replace(to_replace=['no', 'yes'], value=['0', '1'])\n",
    "\n",
    "#preprocess the ordinal data (hierarchy) \n",
    "data[\"age\"] = data[\"age\"].map({'20-29':0, '30-39':1, '40-49':2, '50-59':3, '60-69':4, '70-79':5 })\n",
    "\n",
    "data[\"inv-nodes\"] = data[\"inv-nodes\"].map({'0-2':0, '3-5':1, '6-8':2, '9-11':3, '12-14':4, '15-17':5,'24-26':7})\n",
    "\n",
    "data[\"tumor-size\"] = data[\"tumor-size\"].map({'0-4':0, '5-9':1, '10-14':2, '15-19':3, '20-24':4, '25-29':5, '30-34':5, '35-39':6, '40-44':7, \n",
    "        '45-49':8, '50-54':9 })\n",
    "data.head()\n"
   ]
  },
  {
   "cell_type": "markdown",
   "metadata": {},
   "source": [
    "#### Preprocess Non-Ordinal Data using OneHotEncoding"
   ]
  },
  {
   "cell_type": "code",
   "execution_count": null,
   "metadata": {},
   "outputs": [],
   "source": [
    "#processing label with no hierarchy\n",
    "nominal = [\"breast-quad\", \"breast\", \"menopause\"]\n",
    "for i in nominal:\n",
    "    one_hot = pd.get_dummies(data[i])\n",
    "    data = data.drop(i,axis = 1)\n",
    "    data = data.join(one_hot)\n",
    "    \n",
    "data.head()"
   ]
  },
  {
   "cell_type": "markdown",
   "metadata": {},
   "source": [
    "#### Split data in train and test"
   ]
  },
  {
   "cell_type": "code",
   "execution_count": null,
   "metadata": {},
   "outputs": [],
   "source": [
    "#split the data in attributes and class as well as training and test sets\n",
    "X = data.drop('Class', axis=1)\n",
    "y = data['Class']"
   ]
  },
  {
   "cell_type": "markdown",
   "metadata": {},
   "source": [
    "##  2.1) Feature Selection \n",
    "\n",
    "**Choose one of the methods:**\n",
    "1. SelectPercentile (chi2)\n",
    "2. SelectFromModel (LinearSVC)\n",
    "3. SelectFromModel (LogisticRegression)\n",
    "3. SelectFromModel (ExtraTreesClassifier)\n",
    "\n",
    "## 2.2) Data Pre-processing\n",
    "\n",
    "**Choose one of the methods:**\n",
    "1. Standardization (StandardScaler)\n",
    "2. Standardization (RobustScaler)\n",
    "3. MinMaxScaler\n",
    "4. Normalization\n",
    "\n",
    "## 2.3)Outliers Detection using mathematical function Z-Score\n",
    "\n",
    "\n",
    "### All three features included in the following function:"
   ]
  },
  {
   "cell_type": "code",
   "execution_count": null,
   "metadata": {},
   "outputs": [],
   "source": [
    "def featureSelection(XCurr, yCurr, featureselection_method, preprocessing_method):\n",
    "    '''if featureselection_method == 1:\n",
    "        selection = SelectPercentile(chi2, percentile=5)\n",
    "    elif featureselection_method == 2:\n",
    "        clf = LinearSVC()\n",
    "        #clf = LinearSVC(C=0.1, penalty=\"l1\", dual=False).fit(X, y)\n",
    "        selection = SelectFromModel(clf, prefit=False)\n",
    "    elif featureselection_method == 3:\n",
    "        clf = LogisticRegression()\n",
    "        #clf = LogisticRegression(C=0.2, penalty=\"l2\", dual=False, max_iter=200).fit(X, y)\n",
    "        selection = SelectFromModel(clf, prefit=False)\n",
    "    elif featureselection_method == 4:\n",
    "        clf = ExtraTreesClassifier(n_estimators=50).fit(XCurr, yCurr)\n",
    "        selection = SelectFromModel(clf, prefit=False)      \n",
    "\n",
    "    clf.feature_importances_ \n",
    "    X_transformed = selection.fit_transform(XCurr, yCurr)\n",
    "    columns = np.asarray(XCurr.columns.values)\n",
    "    support = np.asarray(selection.get_support())\n",
    "    columns_with_support = columns[support]\n",
    "    print(\"X_transformed.shape\",X_transformed.shape)'''\n",
    "\n",
    "    \n",
    "    #Data Pre-processing:\n",
    "    if preprocessing_method == 1:\n",
    "        scaler = StandardScaler()\n",
    "        scaler = scaler.fit(XCurr)\n",
    "        X_scaled = scaler.transform(XCurr)\n",
    "    elif preprocessing_method == 2:\n",
    "        scaler = RobustScaler()\n",
    "        scaler = scaler.fit(XCurr)\n",
    "        X_scaled = scaler.transform(XCurr)\n",
    "    elif preprocessing_method == 3:\n",
    "        scaler = preprocessing.MinMaxScaler()\n",
    "        scaler = scaler.fit(XCurr)\n",
    "        X_scaled = scaler.transform(XCurr)\n",
    "    elif preprocessing_method == 4:\n",
    "        scaler = preprocessing.Normalizer()\n",
    "        scaler = scaler.fit(XCurr)\n",
    "        X_scaled = scaler.transform(XCurr)\n",
    "    print(\"X_scaled = \",XCurr)\n",
    "    \n",
    "    \n",
    "    #Outlier Detection:\n",
    "    z = np.abs(stats.zscore(X_scaled))\n",
    "    threshold = 20\n",
    "    outliers_rows = np.where(z > threshold)\n",
    "    print(\"\\n z > threshold = \", np.where(z > threshold))\n",
    "    # The first array contains the list of row numbers and second array respective column numbers\n",
    "    print(\"\\n number of outliers = \",len(set(outliers_rows[0])))\n",
    "    \n",
    "    #Remove Ouliers\n",
    "    #X_prepared = X_scaled[(np.abs(stats.zscore(X_scaled)) < threshold).all(axis=1)]\n",
    "    #X_prepared.shape\n",
    "    #y = y.to_numpy()\n",
    "    \n",
    "    #X_train, X_test, y_train, y_test = train_test_split(X_scaled, yCurr, test_size=0.30)\n",
    "    #return(X_train, X_test, y_train, y_test)\n",
    "    return(X_scaled, yCurr)"
   ]
  },
  {
   "cell_type": "code",
   "execution_count": null,
   "metadata": {},
   "outputs": [],
   "source": [
    "featureselection_method = 4\n",
    "preprocessing_method = 1"
   ]
  },
  {
   "cell_type": "code",
   "execution_count": null,
   "metadata": {},
   "outputs": [],
   "source": [
    "'''print('\\n-------------------both types ------------------\\n')\n",
    "X, y = featureSelection(X, y, featureselection_method, preprocessing_method)\n",
    "X_train, X_test, y_train, y_test = train_test_split(X, y, test_size=0.30)'''"
   ]
  },
  {
   "cell_type": "markdown",
   "metadata": {},
   "source": [
    "## Models Prediction\n",
    "\n",
    "**Types:**\n",
    "- Linear Classifiers: Logistic Regression, Naive Bayes Classifier\n",
    "- Nearest Neighbor\n",
    "- Support Vector Machines\n",
    "- Decision Trees\n",
    "- Random Forest\n",
    "- Neural Networks"
   ]
  },
  {
   "cell_type": "code",
   "execution_count": null,
   "metadata": {},
   "outputs": [],
   "source": [
    "NN = 1\n",
    "\n",
    "d = {}\n",
    "\n",
    "#d[\"Logistic Regression\"] = LogisticRegression(max_iter=200)\n",
    "#d[\"Gaussian Naive Bayes\"] = GaussianNB()\n",
    "\n",
    "d[\"KNearest Neighbors (\"+ str(NN) + \")\"] = KNeighborsClassifier(n_neighbors=NN)\n",
    "\n",
    "d[\"SVM rbf\"] = SVC()\n",
    "#d[\"SGD Classifier\"] = SGDClassifier()\n",
    "\n",
    "d[\"Decision Tree\"] = DecisionTreeClassifier()\n",
    "\n",
    "#d[\"Random Forest\"] = RandomForestClassifier()\n",
    "\n",
    "#d[\"Multi-layer Perceptron Classifier\"] = MLPClassifier(max_iter=1000)"
   ]
  },
  {
   "cell_type": "markdown",
   "metadata": {},
   "source": [
    "### Find best classifier"
   ]
  },
  {
   "cell_type": "code",
   "execution_count": null,
   "metadata": {},
   "outputs": [],
   "source": [
    "scoreList = []\n",
    "nameList = []\n",
    "\n",
    "for name, clf in d.items():\n",
    "    start = time.time()\n",
    "    clf.fit(X_train, y_train)\n",
    "    y_pred = clf.predict(X_test)\n",
    "    score = accuracy_score(y_test, y_pred)\n",
    "    scoreList.append(accuracy_score(y_test, y_pred))\n",
    "    nameList.append(name)\n",
    "\n",
    "    end = time.time()\n",
    "    print(\"\\n--------------\",name,\"---------------\\n\")\n",
    "    print(\"- Accuracy: %0.3f\" % score, \"- Time: %0.4f\" % (end - start), \"seconds\")\n",
    "    print(\"\\n Number of mislabeled points out of a total %d points : %d \\n\\n\"% (X_test.shape[0], (y_test != y_pred).sum()))\n",
    "    print(confusion_matrix(y_test, y_pred))\n",
    "    print(classification_report(y_test, y_pred))\n",
    "\n",
    "print(\"###############\")\n",
    "ranking = sorted(zip(scoreList,nameList))[::-1]\n",
    "#print(sorted(zip(scoreList,nameList)))\n",
    "print(\"\\nClassifiers from best to worst:\")\n",
    "for i in range(0, len(ranking)):\n",
    "    print(i+1, ') {0:35} score: {1}'.format(ranking[i][1], ranking[i][0]))"
   ]
  },
  {
   "cell_type": "markdown",
   "metadata": {},
   "source": [
    "## Hyperparameter Optimization"
   ]
  },
  {
   "cell_type": "markdown",
   "metadata": {},
   "source": [
    "### SVM"
   ]
  },
  {
   "cell_type": "code",
   "execution_count": null,
   "metadata": {},
   "outputs": [],
   "source": [
    "param_grid = {'C': [1, 10], \n",
    "              'gamma': [0.001, 0.01, 1]\n",
    "             }\n",
    "\n",
    "\n",
    "start = time.time()\n",
    "clf_gridsearch = GridSearchCV(d.get(ranking[0][1]), param_grid, verbose = 0)\n",
    "clf_gridsearch.fit(X_train, y_train)\n",
    "print(clf_gridsearch.best_params_)\n",
    "predictions = clf_gridsearch.predict(X_test)\n",
    "score_gridsearch = accuracy_score(y_test, predictions)\n",
    "end = time.time()\n",
    "print(\"GridSearchCV - Accuracy: %0.3f\" % score_gridsearch, \"- Time: %0.2f\" % (end - start), \"seconds\")\n",
    "print(\"Previous Accuracy: \", ranking[0][0])\n",
    "print()\n",
    "print(confusion_matrix(y_test, y_pred))\n",
    "print(classification_report(y_test, y_pred))"
   ]
  },
  {
   "cell_type": "markdown",
   "metadata": {},
   "source": [
    "### Decision Tree"
   ]
  },
  {
   "cell_type": "code",
   "execution_count": null,
   "metadata": {},
   "outputs": [],
   "source": [
    "param_grid = {'criterion' : ['gini', 'entropy'],\n",
    "              'max_depth': [10, 50, 100, None],\n",
    "              'max_features' : ['auto', 'sqrt', 'log2', None],\n",
    "              'splitter' : ['best', 'random'],\n",
    "              'min_samples_leaf': [1, 2, 4]}\n",
    "\n",
    "start = time.time()\n",
    "clf_gridsearch = GridSearchCV(d.get(ranking[2][1]), param_grid, verbose = 0)\n",
    "clf_gridsearch.fit(X_train, y_train)\n",
    "print(clf_gridsearch.best_params_)\n",
    "predictions = clf_gridsearch.predict(X_test)\n",
    "score_gridsearch = accuracy_score(y_test, predictions)\n",
    "end = time.time()\n",
    "print(\"GridSearchCV - Accuracy: %0.3f\" % score_gridsearch, \"- Time: %0.2f\" % (end - start), \"seconds\")\n",
    "print(\"Previous Accuracy: \", ranking[2][0])\n",
    "print()\n",
    "print(confusion_matrix(y_test, y_pred))\n",
    "print(classification_report(y_test, y_pred))"
   ]
  },
  {
   "cell_type": "markdown",
   "metadata": {},
   "source": [
    "### KNN"
   ]
  },
  {
   "cell_type": "code",
   "execution_count": 379,
   "metadata": {},
   "outputs": [
    {
     "name": "stdout",
     "output_type": "stream",
     "text": [
      "{'n_neighbors': 2, 'p': 2, 'weights': 'uniform'}\n",
      "GridSearchCV - Accuracy: 0.744 - Time: 1.84 seconds\n",
      "Previous Accuracy:  0.6511627906976745\n",
      "\n",
      "[[50 14]\n",
      " [17  5]]\n",
      "              precision    recall  f1-score   support\n",
      "\n",
      "           0       0.75      0.78      0.76        64\n",
      "           1       0.26      0.23      0.24        22\n",
      "\n",
      "    accuracy                           0.64        86\n",
      "   macro avg       0.50      0.50      0.50        86\n",
      "weighted avg       0.62      0.64      0.63        86\n",
      "\n"
     ]
    }
   ],
   "source": [
    "param_grid = param_grid = {'n_neighbors': range(1,25),\n",
    "              'weights': ['uniform', 'distance'],\n",
    "              'p': [1, 2]}\n",
    "\n",
    "start = time.time()\n",
    "clf_gridsearch = GridSearchCV(d.get(ranking[1][1]), param_grid, verbose = 0)\n",
    "clf_gridsearch.fit(X_train, y_train)\n",
    "print(clf_gridsearch.best_params_)\n",
    "predictions = clf_gridsearch.predict(X_test)\n",
    "score_gridsearch = accuracy_score(y_test, predictions)\n",
    "end = time.time()\n",
    "print(\"GridSearchCV - Accuracy: %0.3f\" % score_gridsearch, \"- Time: %0.2f\" % (end - start), \"seconds\")\n",
    "print(\"Previous Accuracy: \", ranking[1][0])\n",
    "print()\n",
    "print(confusion_matrix(y_test, y_pred))\n",
    "print(classification_report(y_test, y_pred))"
   ]
  },
  {
   "cell_type": "markdown",
   "metadata": {},
   "source": [
    "### Compare with k-fold cross validation"
   ]
  },
  {
   "cell_type": "code",
   "execution_count": null,
   "metadata": {},
   "outputs": [],
   "source": [
    "# Compare Algorithms\n",
    "import pandas\n",
    "import matplotlib.pyplot as plt\n",
    "from sklearn import model_selection\n",
    "from sklearn.linear_model import LogisticRegression\n",
    "from sklearn.tree import DecisionTreeClassifier\n",
    "from sklearn.neighbors import KNeighborsClassifier\n",
    "from sklearn.discriminant_analysis import LinearDiscriminantAnalysis\n",
    "from sklearn.naive_bayes import GaussianNB\n",
    "from sklearn.svm import SVC\n",
    "\n",
    "\n",
    "# prepare configuration for cross validation test harness\n",
    "seed = 7\n",
    "# prepare models\n",
    "models = []\n",
    "\n",
    "'''models.append(('KNN', KNeighborsClassifier(n_neighbors=9, p= 1, weights = 'uniform')))\n",
    "models.append(('Decision Tree', DecisionTreeClassifier(criterion= 'gini', max_depth= 50, max_features= 'auto', min_samples_leaf= 4, splitter='random')))\n",
    "models.append(('SVM', SVC(C= 10, gamma= 0.001)))'''\n",
    "\n",
    "models.append(('KNN', KNeighborsClassifier(n_neighbors=1)))\n",
    "models.append(('Decision Tree', DecisionTreeClassifier()))\n",
    "models.append(('SVM', SVC()))\n",
    "\n",
    "#models.append(('LRegression', LogisticRegression(max_iter=200)))\n",
    "\n",
    "# evaluate each model in turn\n",
    "results = []\n",
    "names = []\n",
    "scoring = 'accuracy'\n",
    "for name, model in models:\n",
    "\tkfold = model_selection.KFold(n_splits=5)\n",
    "\tcv_results = model_selection.cross_val_score(model, X, y, cv=kfold, scoring=scoring)\n",
    "\tresults.append(cv_results)\n",
    "\tnames.append(name)\n",
    "\tmsg = \"%s: %f (%f)\" % (name, cv_results.mean(), cv_results.std())\n",
    "\tprint(msg)\n",
    "# boxplot algorithm comparison\n",
    "fig = plt.figure()\n",
    "fig.suptitle('Algorithm Comparison')\n",
    "ax = fig.add_subplot(111)\n",
    "plt.boxplot(results)\n",
    "ax.set_xticklabels(names)\n",
    "plt.show()"
   ]
  },
  {
   "cell_type": "code",
   "execution_count": null,
   "metadata": {},
   "outputs": [],
   "source": []
  },
  {
   "cell_type": "code",
   "execution_count": null,
   "metadata": {},
   "outputs": [],
   "source": []
  }
 ],
 "metadata": {
  "kernelspec": {
   "display_name": "Python 3",
   "language": "python",
   "name": "python3"
  },
  "language_info": {
   "codemirror_mode": {
    "name": "ipython",
    "version": 3
   },
   "file_extension": ".py",
   "mimetype": "text/x-python",
   "name": "python",
   "nbconvert_exporter": "python",
   "pygments_lexer": "ipython3",
   "version": "3.8.3"
  }
 },
 "nbformat": 4,
 "nbformat_minor": 4
}
