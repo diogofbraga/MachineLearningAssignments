{
 "cells": [
  {
   "cell_type": "markdown",
   "metadata": {},
   "source": [
    "# MLP - CIFAR10"
   ]
  },
  {
   "cell_type": "markdown",
   "metadata": {},
   "source": [
    "### Import Libraries"
   ]
  },
  {
   "cell_type": "code",
   "execution_count": null,
   "metadata": {},
   "outputs": [],
   "source": [
    "import time\n",
    "import numpy as np\n",
    "from keras.datasets import cifar10\n",
    "from keras.models import Sequential\n",
    "from keras.layers import Dense, Dropout\n",
    "from keras.utils import np_utils\n",
    "import matplotlib.pyplot as plt\n",
    "from livelossplot import PlotLossesKeras\n",
    "from keras import backend as K\n",
    "K.set_image_data_format(\"channels_last\")\n",
    "from PIL import Image"
   ]
  },
  {
   "cell_type": "markdown",
   "metadata": {},
   "source": [
    "### Methods Definition"
   ]
  },
  {
   "cell_type": "code",
   "execution_count": null,
   "metadata": {},
   "outputs": [],
   "source": [
    "def visualize_cifar10(X_train, y_train, X_test, y_test):\n",
    "    for i in range(0, 9):  # Create a grid with 3x3 images\n",
    "        plt.subplot(330 + 1 + i)\n",
    "        plt.imshow(Image.fromarray(X_train[i]))\n",
    "    plt.show()\n",
    "    \n",
    "\n",
    "def create_compile_model_mlp(num_pixels, num_classes):\n",
    "    model = Sequential()\n",
    "    model.add(Dense(num_pixels, input_dim=num_pixels, kernel_initializer='normal', activation='relu'))\n",
    "    model.add(Dropout(0.2))\n",
    "    model.add(Dense(32, activation='relu'))\n",
    "    model.add(Dropout(0.5))\n",
    "    model.add(Dense(num_classes, kernel_initializer='normal', activation='softmax'))\n",
    "    model.compile(loss='categorical_crossentropy', optimizer='adam', metrics=['accuracy'])\n",
    "    return model\n",
    "\n",
    "\n",
    "def transform_to_gray_scale(X_train, y_train, X_test, y_test):\n",
    "    X_train = X_train.mean(axis=-1)\n",
    "    y_train = y_train.mean(axis=-1)\n",
    "    X_test = X_test.mean(axis=-1)\n",
    "    y_test = y_test.mean(axis=-1)\n",
    "    return (X_train, y_train, X_test, y_test)\n",
    "        \n",
    "\n",
    "def cifar10_using_mlp(X_train, y_train, X_test, y_test, gray_scale):\n",
    "\n",
    "    if gray_scale == False:\n",
    "        # Transform the 32 * 32 * 3 matrix of the images into a vector with 3072 attributes for each image (because it is multilayer-perceptron)\n",
    "        # (50000, 32, 32, 3)\n",
    "        num_pixels = X_train.shape[1] * X_train.shape[2] * X_train.shape[3]\n",
    "        X_train = X_train.reshape(X_train.shape[0], num_pixels).astype('float32')\n",
    "        X_test = X_test.reshape(X_test.shape[0], num_pixels).astype('float32')\n",
    "    else: \n",
    "        # (50000, 32, 32, 1)\n",
    "        num_pixels = X_train.shape[1] * X_train.shape[2]\n",
    "        X_train = X_train.reshape(X_train.shape[0], num_pixels).astype('float32')\n",
    "        X_test = X_test.reshape(X_test.shape[0], num_pixels).astype('float32')\n",
    "\n",
    "    # Normalize the pixel values from 0-255 to 0-1\n",
    "    X_train = X_train / 255\n",
    "    X_test = X_test / 255\n",
    "\n",
    "    # Transform the label which is an integer into binary categories\n",
    "    # The value becomes that corresponding to the position, class 5 becomes the list [0. 0. 0. 0. 0. 1. 0. 0. 0. 0.]\n",
    "    y_train = np_utils.to_categorical(y_train)\n",
    "    y_test = np_utils.to_categorical(y_test)\n",
    "\n",
    "    # Output from 0 to 9 -> 10 possibilities\n",
    "    num_classes = y_test.shape[1]\n",
    "\n",
    "    # Define the network topology and compile\n",
    "    model = create_compile_model_mlp(num_pixels, num_classes)\n",
    "    #print(model.summary()XW)\n",
    "    print_model(model, \"model_cifar10_mlp.png\")\n",
    "    plotlosses = PlotLossesKeras()\n",
    "\n",
    "    # Training the network\n",
    "    history = model.fit(X_train, y_train, validation_data=(X_test, y_test), epochs=10, batch_size=200, verbose=1, callbacks=[PlotLossesKeras()])\n",
    "    \n",
    "    #print_history_accuracy(history)\n",
    "    #print_history_loss(history)\n",
    "\n",
    "    # Final evaluation with the test cases\n",
    "    scores = model.evaluate(X_test, y_test, verbose=0)\n",
    "\n",
    "    #print('Scores: ', scores)\n",
    "    print(\"MLP model accuracy CIFAR10: %.2f%%\" % (scores[1]*100))\n",
    "    print(\"MLP model loss CIFAR10: %.3f\" % (scores[0]))\n",
    "    \n",
    "\n",
    "# Useful to visualize the tipology of the network in pdf or png\n",
    "def print_model(model, fich):\n",
    "    from keras.utils import plot_model\n",
    "    plot_model(model, to_file=fich, show_shapes=True, show_layer_names=True)\n",
    "\n",
    "\n",
    "# Utils to visualize the history of the learning\n",
    "def print_history_accuracy(history):\n",
    "    print(history.history.keys())\n",
    "    plt.plot(history.history['accuracy'])\n",
    "    plt.plot(history.history['val_accuracy'])\n",
    "    plt.title('model accuracy')\n",
    "    plt.ylabel('accuracy')\n",
    "    plt.xlabel('epoch')\n",
    "    plt.legend(['train', 'test'], loc='upper left')\n",
    "    plt.show()\n",
    "\n",
    "\n",
    "def print_history_loss(history):\n",
    "    print(history.history.keys())\n",
    "    plt.plot(history.history['loss'])\n",
    "    plt.plot(history.history['val_loss'])\n",
    "    plt.title('model loss')\n",
    "    plt.ylabel('loss')\n",
    "    plt.xlabel('epoch')\n",
    "    plt.legend(['train', 'test'], loc='upper left')\n",
    "    plt.show()"
   ]
  },
  {
   "cell_type": "markdown",
   "metadata": {},
   "source": [
    "### Load Data"
   ]
  },
  {
   "cell_type": "code",
   "execution_count": null,
   "metadata": {},
   "outputs": [],
   "source": [
    "(x_train, y_train), (x_test, y_test) = cifar10.load_data()"
   ]
  },
  {
   "cell_type": "markdown",
   "metadata": {},
   "source": [
    "### Visualize Data"
   ]
  },
  {
   "cell_type": "code",
   "execution_count": null,
   "metadata": {},
   "outputs": [],
   "source": [
    "gray_scale = True\n",
    "if gray_scale == True:\n",
    "    (x_train, y_train, x_test, y_test) = transform_to_gray_scale(x_train, y_train, x_test, y_test)\n",
    "\n",
    "visualize_cifar10(x_train, y_train, x_test, y_test)"
   ]
  },
  {
   "cell_type": "markdown",
   "metadata": {},
   "source": [
    "### Model Execution"
   ]
  },
  {
   "cell_type": "code",
   "execution_count": null,
   "metadata": {
    "scrolled": false
   },
   "outputs": [],
   "source": [
    "start_time = time.time()\n",
    "cifar10_using_mlp(x_train, y_train, x_test, y_test, gray_scale)\n",
    "time_taken = time.time() - start_time\n",
    "\n",
    "print(\"Processing Time: %.3f seconds\" % (time_taken))"
   ]
  }
 ],
 "metadata": {
  "kernelspec": {
   "display_name": "Python 3",
   "language": "python",
   "name": "python3"
  },
  "language_info": {
   "codemirror_mode": {
    "name": "ipython",
    "version": 3
   },
   "file_extension": ".py",
   "mimetype": "text/x-python",
   "name": "python",
   "nbconvert_exporter": "python",
   "pygments_lexer": "ipython3",
   "version": "3.8.3"
  }
 },
 "nbformat": 4,
 "nbformat_minor": 4
}
