{
 "cells": [
  {
   "cell_type": "markdown",
   "metadata": {},
   "source": [
    "#Wine Quality\n",
    "\n",
    "**Data Set Information:**\n",
    "TBC\n",
    "\n",
    "**Attribute Information:**\n",
    "\n",
    "**-type:** red wine or white wine, nominal qunatity; <br>\n",
    "**-fixed acidity:** grams of tataric acid per 100ml, ratio qunatity; <br>\n",
    "**-volatile acidity:** grams of acetic acid per liter of wine, ratio qunatity; <br>\n",
    "**-citric acid:** grams per liter, ratio qunatity; <br>\n",
    "**-residual sugar:** grams per liter, ratio qunatity; <br>\n",
    "**-chlorides:** grams of sodium chloride per liter, ratio qunatity; <br>\n",
    "**-free sulfur dioxide:** milligrams per liter, ratio qunatity; <br>\n",
    "**-total sulfur dioxide:** milligrams per liter, ratio qunatity; <br>\n",
    "**-density:** grams per cubic centimeter, ratio qunatity; <br>\n",
    "**-pH:** ratio qunatity; <br>\n",
    "**-sulphates:** grams of potassium sulfate per liter, ratio qunatity; <br>\n",
    "**-alcohol:** vol.%, ratio qunatity; <br>\n",
    "**-quality:** Output variable, score between 0 and 10, subjective(?), ordinal qunantity \n",
    "\n",
    "Preprocessing:\n",
    "Combine two .csv files (one for red wine, one for white wine) into one file with the new attribute \"type\".\n",
    "\n",
    "\n",
    "\n"
   ]
  },
  {
   "cell_type": "markdown",
   "metadata": {},
   "source": [
    "# General Data Preparation\n",
    "### Import Libraries"
   ]
  },
  {
   "cell_type": "code",
   "execution_count": 1,
   "metadata": {},
   "outputs": [],
   "source": [
    "import pandas as pd\n",
    "import numpy as np\n",
    "import matplotlib.pyplot as plt\n",
    "import seaborn as sns\n",
    "import time\n",
    "from scipy import stats\n",
    "from sklearn import preprocessing\n",
    "from sklearn.preprocessing import StandardScaler, RobustScaler, MinMaxScaler, Normalizer\n",
    "from sklearn import tree\n",
    "from sklearn.tree import DecisionTreeClassifier\n",
    "from sklearn.metrics import classification_report, confusion_matrix, accuracy_score\n",
    "from sklearn.naive_bayes import GaussianNB\n",
    "from sklearn.neighbors import KNeighborsClassifier\n",
    "from sklearn.linear_model import LogisticRegression, SGDClassifier\n",
    "from sklearn.feature_selection import SelectPercentile, chi2, SelectFromModel\n",
    "from sklearn.model_selection import train_test_split, cross_val_score, GridSearchCV, RandomizedSearchCV\n",
    "from sklearn.svm import SVC, LinearSVC\n",
    "from sklearn.gaussian_process import GaussianProcessClassifier\n",
    "from sklearn.ensemble import ExtraTreesClassifier, RandomForestClassifier\n",
    "from sklearn.neural_network import MLPClassifier"
   ]
  },
  {
   "cell_type": "markdown",
   "metadata": {},
   "source": [
    "### Get the Data"
   ]
  },
  {
   "cell_type": "code",
   "execution_count": 2,
   "metadata": {},
   "outputs": [],
   "source": [
    "data = pd.read_csv('wineQualityBothTypes.csv', delimiter = ';')"
   ]
  },
  {
   "cell_type": "code",
   "execution_count": 3,
   "metadata": {},
   "outputs": [
    {
     "data": {
      "text/html": [
       "<div>\n",
       "<style scoped>\n",
       "    .dataframe tbody tr th:only-of-type {\n",
       "        vertical-align: middle;\n",
       "    }\n",
       "\n",
       "    .dataframe tbody tr th {\n",
       "        vertical-align: top;\n",
       "    }\n",
       "\n",
       "    .dataframe thead th {\n",
       "        text-align: right;\n",
       "    }\n",
       "</style>\n",
       "<table border=\"1\" class=\"dataframe\">\n",
       "  <thead>\n",
       "    <tr style=\"text-align: right;\">\n",
       "      <th></th>\n",
       "      <th>type</th>\n",
       "      <th>fixed acidity</th>\n",
       "      <th>volatile acidity</th>\n",
       "      <th>citric acid</th>\n",
       "      <th>residual sugar</th>\n",
       "      <th>chlorides</th>\n",
       "      <th>free sulfur dioxide</th>\n",
       "      <th>total sulfur dioxide</th>\n",
       "      <th>density</th>\n",
       "      <th>pH</th>\n",
       "      <th>sulphates</th>\n",
       "      <th>alcohol</th>\n",
       "      <th>quality</th>\n",
       "    </tr>\n",
       "  </thead>\n",
       "  <tbody>\n",
       "    <tr>\n",
       "      <th>0</th>\n",
       "      <td>red</td>\n",
       "      <td>7.4</td>\n",
       "      <td>0.70</td>\n",
       "      <td>0.00</td>\n",
       "      <td>1.9</td>\n",
       "      <td>0.076</td>\n",
       "      <td>11.0</td>\n",
       "      <td>34.0</td>\n",
       "      <td>0.99780</td>\n",
       "      <td>3.51</td>\n",
       "      <td>0.56</td>\n",
       "      <td>9.4</td>\n",
       "      <td>5</td>\n",
       "    </tr>\n",
       "    <tr>\n",
       "      <th>1</th>\n",
       "      <td>red</td>\n",
       "      <td>7.8</td>\n",
       "      <td>0.88</td>\n",
       "      <td>0.00</td>\n",
       "      <td>2.6</td>\n",
       "      <td>0.098</td>\n",
       "      <td>25.0</td>\n",
       "      <td>67.0</td>\n",
       "      <td>0.99680</td>\n",
       "      <td>3.20</td>\n",
       "      <td>0.68</td>\n",
       "      <td>9.8</td>\n",
       "      <td>5</td>\n",
       "    </tr>\n",
       "    <tr>\n",
       "      <th>2</th>\n",
       "      <td>red</td>\n",
       "      <td>7.8</td>\n",
       "      <td>0.76</td>\n",
       "      <td>0.04</td>\n",
       "      <td>2.3</td>\n",
       "      <td>0.092</td>\n",
       "      <td>15.0</td>\n",
       "      <td>54.0</td>\n",
       "      <td>0.99700</td>\n",
       "      <td>3.26</td>\n",
       "      <td>0.65</td>\n",
       "      <td>9.8</td>\n",
       "      <td>5</td>\n",
       "    </tr>\n",
       "    <tr>\n",
       "      <th>3</th>\n",
       "      <td>red</td>\n",
       "      <td>11.2</td>\n",
       "      <td>0.28</td>\n",
       "      <td>0.56</td>\n",
       "      <td>1.9</td>\n",
       "      <td>0.075</td>\n",
       "      <td>17.0</td>\n",
       "      <td>60.0</td>\n",
       "      <td>0.99800</td>\n",
       "      <td>3.16</td>\n",
       "      <td>0.58</td>\n",
       "      <td>9.8</td>\n",
       "      <td>6</td>\n",
       "    </tr>\n",
       "    <tr>\n",
       "      <th>4</th>\n",
       "      <td>red</td>\n",
       "      <td>7.4</td>\n",
       "      <td>0.70</td>\n",
       "      <td>0.00</td>\n",
       "      <td>1.9</td>\n",
       "      <td>0.076</td>\n",
       "      <td>11.0</td>\n",
       "      <td>34.0</td>\n",
       "      <td>0.99780</td>\n",
       "      <td>3.51</td>\n",
       "      <td>0.56</td>\n",
       "      <td>9.4</td>\n",
       "      <td>5</td>\n",
       "    </tr>\n",
       "    <tr>\n",
       "      <th>...</th>\n",
       "      <td>...</td>\n",
       "      <td>...</td>\n",
       "      <td>...</td>\n",
       "      <td>...</td>\n",
       "      <td>...</td>\n",
       "      <td>...</td>\n",
       "      <td>...</td>\n",
       "      <td>...</td>\n",
       "      <td>...</td>\n",
       "      <td>...</td>\n",
       "      <td>...</td>\n",
       "      <td>...</td>\n",
       "      <td>...</td>\n",
       "    </tr>\n",
       "    <tr>\n",
       "      <th>6492</th>\n",
       "      <td>white</td>\n",
       "      <td>6.2</td>\n",
       "      <td>0.21</td>\n",
       "      <td>0.29</td>\n",
       "      <td>1.6</td>\n",
       "      <td>0.039</td>\n",
       "      <td>24.0</td>\n",
       "      <td>92.0</td>\n",
       "      <td>0.99114</td>\n",
       "      <td>3.27</td>\n",
       "      <td>0.50</td>\n",
       "      <td>11.2</td>\n",
       "      <td>6</td>\n",
       "    </tr>\n",
       "    <tr>\n",
       "      <th>6493</th>\n",
       "      <td>white</td>\n",
       "      <td>6.6</td>\n",
       "      <td>0.32</td>\n",
       "      <td>0.36</td>\n",
       "      <td>8.0</td>\n",
       "      <td>0.047</td>\n",
       "      <td>57.0</td>\n",
       "      <td>168.0</td>\n",
       "      <td>0.99490</td>\n",
       "      <td>3.15</td>\n",
       "      <td>0.46</td>\n",
       "      <td>9.6</td>\n",
       "      <td>5</td>\n",
       "    </tr>\n",
       "    <tr>\n",
       "      <th>6494</th>\n",
       "      <td>white</td>\n",
       "      <td>6.5</td>\n",
       "      <td>0.24</td>\n",
       "      <td>0.19</td>\n",
       "      <td>1.2</td>\n",
       "      <td>0.041</td>\n",
       "      <td>30.0</td>\n",
       "      <td>111.0</td>\n",
       "      <td>0.99254</td>\n",
       "      <td>2.99</td>\n",
       "      <td>0.46</td>\n",
       "      <td>9.4</td>\n",
       "      <td>6</td>\n",
       "    </tr>\n",
       "    <tr>\n",
       "      <th>6495</th>\n",
       "      <td>white</td>\n",
       "      <td>5.5</td>\n",
       "      <td>0.29</td>\n",
       "      <td>0.30</td>\n",
       "      <td>1.1</td>\n",
       "      <td>0.022</td>\n",
       "      <td>20.0</td>\n",
       "      <td>110.0</td>\n",
       "      <td>0.98869</td>\n",
       "      <td>3.34</td>\n",
       "      <td>0.38</td>\n",
       "      <td>12.8</td>\n",
       "      <td>7</td>\n",
       "    </tr>\n",
       "    <tr>\n",
       "      <th>6496</th>\n",
       "      <td>white</td>\n",
       "      <td>6.0</td>\n",
       "      <td>0.21</td>\n",
       "      <td>0.38</td>\n",
       "      <td>0.8</td>\n",
       "      <td>0.020</td>\n",
       "      <td>22.0</td>\n",
       "      <td>98.0</td>\n",
       "      <td>0.98941</td>\n",
       "      <td>3.26</td>\n",
       "      <td>0.32</td>\n",
       "      <td>11.8</td>\n",
       "      <td>6</td>\n",
       "    </tr>\n",
       "  </tbody>\n",
       "</table>\n",
       "<p>6497 rows × 13 columns</p>\n",
       "</div>"
      ],
      "text/plain": [
       "       type  fixed acidity  volatile acidity  citric acid  residual sugar  \\\n",
       "0       red            7.4              0.70         0.00             1.9   \n",
       "1       red            7.8              0.88         0.00             2.6   \n",
       "2       red            7.8              0.76         0.04             2.3   \n",
       "3       red           11.2              0.28         0.56             1.9   \n",
       "4       red            7.4              0.70         0.00             1.9   \n",
       "...     ...            ...               ...          ...             ...   \n",
       "6492  white            6.2              0.21         0.29             1.6   \n",
       "6493  white            6.6              0.32         0.36             8.0   \n",
       "6494  white            6.5              0.24         0.19             1.2   \n",
       "6495  white            5.5              0.29         0.30             1.1   \n",
       "6496  white            6.0              0.21         0.38             0.8   \n",
       "\n",
       "      chlorides  free sulfur dioxide  total sulfur dioxide  density    pH  \\\n",
       "0         0.076                 11.0                  34.0  0.99780  3.51   \n",
       "1         0.098                 25.0                  67.0  0.99680  3.20   \n",
       "2         0.092                 15.0                  54.0  0.99700  3.26   \n",
       "3         0.075                 17.0                  60.0  0.99800  3.16   \n",
       "4         0.076                 11.0                  34.0  0.99780  3.51   \n",
       "...         ...                  ...                   ...      ...   ...   \n",
       "6492      0.039                 24.0                  92.0  0.99114  3.27   \n",
       "6493      0.047                 57.0                 168.0  0.99490  3.15   \n",
       "6494      0.041                 30.0                 111.0  0.99254  2.99   \n",
       "6495      0.022                 20.0                 110.0  0.98869  3.34   \n",
       "6496      0.020                 22.0                  98.0  0.98941  3.26   \n",
       "\n",
       "      sulphates  alcohol  quality  \n",
       "0          0.56      9.4        5  \n",
       "1          0.68      9.8        5  \n",
       "2          0.65      9.8        5  \n",
       "3          0.58      9.8        6  \n",
       "4          0.56      9.4        5  \n",
       "...         ...      ...      ...  \n",
       "6492       0.50     11.2        6  \n",
       "6493       0.46      9.6        5  \n",
       "6494       0.46      9.4        6  \n",
       "6495       0.38     12.8        7  \n",
       "6496       0.32     11.8        6  \n",
       "\n",
       "[6497 rows x 13 columns]"
      ]
     },
     "execution_count": 3,
     "metadata": {},
     "output_type": "execute_result"
    }
   ],
   "source": [
    "data"
   ]
  },
  {
   "cell_type": "markdown",
   "metadata": {},
   "source": [
    "### Basic Data Information "
   ]
  },
  {
   "cell_type": "code",
   "execution_count": 4,
   "metadata": {},
   "outputs": [
    {
     "name": "stdout",
     "output_type": "stream",
     "text": [
      "<class 'pandas.core.frame.DataFrame'>\n",
      "RangeIndex: 6497 entries, 0 to 6496\n",
      "Data columns (total 13 columns):\n",
      " #   Column                Non-Null Count  Dtype  \n",
      "---  ------                --------------  -----  \n",
      " 0   type                  6497 non-null   object \n",
      " 1   fixed acidity         6497 non-null   float64\n",
      " 2   volatile acidity      6497 non-null   float64\n",
      " 3   citric acid           6497 non-null   float64\n",
      " 4   residual sugar        6497 non-null   float64\n",
      " 5   chlorides             6497 non-null   float64\n",
      " 6   free sulfur dioxide   6497 non-null   float64\n",
      " 7   total sulfur dioxide  6497 non-null   float64\n",
      " 8   density               6497 non-null   float64\n",
      " 9   pH                    6497 non-null   float64\n",
      " 10  sulphates             6497 non-null   float64\n",
      " 11  alcohol               6497 non-null   float64\n",
      " 12  quality               6497 non-null   int64  \n",
      "dtypes: float64(11), int64(1), object(1)\n",
      "memory usage: 660.0+ KB\n"
     ]
    }
   ],
   "source": [
    "data.info()"
   ]
  },
  {
   "cell_type": "code",
   "execution_count": 5,
   "metadata": {},
   "outputs": [
    {
     "data": {
      "text/html": [
       "<div>\n",
       "<style scoped>\n",
       "    .dataframe tbody tr th:only-of-type {\n",
       "        vertical-align: middle;\n",
       "    }\n",
       "\n",
       "    .dataframe tbody tr th {\n",
       "        vertical-align: top;\n",
       "    }\n",
       "\n",
       "    .dataframe thead th {\n",
       "        text-align: right;\n",
       "    }\n",
       "</style>\n",
       "<table border=\"1\" class=\"dataframe\">\n",
       "  <thead>\n",
       "    <tr style=\"text-align: right;\">\n",
       "      <th></th>\n",
       "      <th>fixed acidity</th>\n",
       "      <th>volatile acidity</th>\n",
       "      <th>citric acid</th>\n",
       "      <th>residual sugar</th>\n",
       "      <th>chlorides</th>\n",
       "      <th>free sulfur dioxide</th>\n",
       "      <th>total sulfur dioxide</th>\n",
       "      <th>density</th>\n",
       "      <th>pH</th>\n",
       "      <th>sulphates</th>\n",
       "      <th>alcohol</th>\n",
       "      <th>quality</th>\n",
       "    </tr>\n",
       "  </thead>\n",
       "  <tbody>\n",
       "    <tr>\n",
       "      <th>count</th>\n",
       "      <td>6497.000000</td>\n",
       "      <td>6497.000000</td>\n",
       "      <td>6497.000000</td>\n",
       "      <td>6497.000000</td>\n",
       "      <td>6497.000000</td>\n",
       "      <td>6497.000000</td>\n",
       "      <td>6497.000000</td>\n",
       "      <td>6497.000000</td>\n",
       "      <td>6497.000000</td>\n",
       "      <td>6497.000000</td>\n",
       "      <td>6497.000000</td>\n",
       "      <td>6497.000000</td>\n",
       "    </tr>\n",
       "    <tr>\n",
       "      <th>mean</th>\n",
       "      <td>7.215307</td>\n",
       "      <td>0.339666</td>\n",
       "      <td>0.318633</td>\n",
       "      <td>5.443235</td>\n",
       "      <td>0.056034</td>\n",
       "      <td>30.525319</td>\n",
       "      <td>115.744574</td>\n",
       "      <td>0.994697</td>\n",
       "      <td>3.218501</td>\n",
       "      <td>0.531268</td>\n",
       "      <td>10.491801</td>\n",
       "      <td>5.818378</td>\n",
       "    </tr>\n",
       "    <tr>\n",
       "      <th>std</th>\n",
       "      <td>1.296434</td>\n",
       "      <td>0.164636</td>\n",
       "      <td>0.145318</td>\n",
       "      <td>4.757804</td>\n",
       "      <td>0.035034</td>\n",
       "      <td>17.749400</td>\n",
       "      <td>56.521855</td>\n",
       "      <td>0.002999</td>\n",
       "      <td>0.160787</td>\n",
       "      <td>0.148806</td>\n",
       "      <td>1.192712</td>\n",
       "      <td>0.873255</td>\n",
       "    </tr>\n",
       "    <tr>\n",
       "      <th>min</th>\n",
       "      <td>3.800000</td>\n",
       "      <td>0.080000</td>\n",
       "      <td>0.000000</td>\n",
       "      <td>0.600000</td>\n",
       "      <td>0.009000</td>\n",
       "      <td>1.000000</td>\n",
       "      <td>6.000000</td>\n",
       "      <td>0.987110</td>\n",
       "      <td>2.720000</td>\n",
       "      <td>0.220000</td>\n",
       "      <td>8.000000</td>\n",
       "      <td>3.000000</td>\n",
       "    </tr>\n",
       "    <tr>\n",
       "      <th>25%</th>\n",
       "      <td>6.400000</td>\n",
       "      <td>0.230000</td>\n",
       "      <td>0.250000</td>\n",
       "      <td>1.800000</td>\n",
       "      <td>0.038000</td>\n",
       "      <td>17.000000</td>\n",
       "      <td>77.000000</td>\n",
       "      <td>0.992340</td>\n",
       "      <td>3.110000</td>\n",
       "      <td>0.430000</td>\n",
       "      <td>9.500000</td>\n",
       "      <td>5.000000</td>\n",
       "    </tr>\n",
       "    <tr>\n",
       "      <th>50%</th>\n",
       "      <td>7.000000</td>\n",
       "      <td>0.290000</td>\n",
       "      <td>0.310000</td>\n",
       "      <td>3.000000</td>\n",
       "      <td>0.047000</td>\n",
       "      <td>29.000000</td>\n",
       "      <td>118.000000</td>\n",
       "      <td>0.994890</td>\n",
       "      <td>3.210000</td>\n",
       "      <td>0.510000</td>\n",
       "      <td>10.300000</td>\n",
       "      <td>6.000000</td>\n",
       "    </tr>\n",
       "    <tr>\n",
       "      <th>75%</th>\n",
       "      <td>7.700000</td>\n",
       "      <td>0.400000</td>\n",
       "      <td>0.390000</td>\n",
       "      <td>8.100000</td>\n",
       "      <td>0.065000</td>\n",
       "      <td>41.000000</td>\n",
       "      <td>156.000000</td>\n",
       "      <td>0.996990</td>\n",
       "      <td>3.320000</td>\n",
       "      <td>0.600000</td>\n",
       "      <td>11.300000</td>\n",
       "      <td>6.000000</td>\n",
       "    </tr>\n",
       "    <tr>\n",
       "      <th>max</th>\n",
       "      <td>15.900000</td>\n",
       "      <td>1.580000</td>\n",
       "      <td>1.660000</td>\n",
       "      <td>65.800000</td>\n",
       "      <td>0.611000</td>\n",
       "      <td>289.000000</td>\n",
       "      <td>440.000000</td>\n",
       "      <td>1.038980</td>\n",
       "      <td>4.010000</td>\n",
       "      <td>2.000000</td>\n",
       "      <td>14.900000</td>\n",
       "      <td>9.000000</td>\n",
       "    </tr>\n",
       "  </tbody>\n",
       "</table>\n",
       "</div>"
      ],
      "text/plain": [
       "       fixed acidity  volatile acidity  citric acid  residual sugar  \\\n",
       "count    6497.000000       6497.000000  6497.000000     6497.000000   \n",
       "mean        7.215307          0.339666     0.318633        5.443235   \n",
       "std         1.296434          0.164636     0.145318        4.757804   \n",
       "min         3.800000          0.080000     0.000000        0.600000   \n",
       "25%         6.400000          0.230000     0.250000        1.800000   \n",
       "50%         7.000000          0.290000     0.310000        3.000000   \n",
       "75%         7.700000          0.400000     0.390000        8.100000   \n",
       "max        15.900000          1.580000     1.660000       65.800000   \n",
       "\n",
       "         chlorides  free sulfur dioxide  total sulfur dioxide      density  \\\n",
       "count  6497.000000          6497.000000           6497.000000  6497.000000   \n",
       "mean      0.056034            30.525319            115.744574     0.994697   \n",
       "std       0.035034            17.749400             56.521855     0.002999   \n",
       "min       0.009000             1.000000              6.000000     0.987110   \n",
       "25%       0.038000            17.000000             77.000000     0.992340   \n",
       "50%       0.047000            29.000000            118.000000     0.994890   \n",
       "75%       0.065000            41.000000            156.000000     0.996990   \n",
       "max       0.611000           289.000000            440.000000     1.038980   \n",
       "\n",
       "                pH    sulphates      alcohol      quality  \n",
       "count  6497.000000  6497.000000  6497.000000  6497.000000  \n",
       "mean      3.218501     0.531268    10.491801     5.818378  \n",
       "std       0.160787     0.148806     1.192712     0.873255  \n",
       "min       2.720000     0.220000     8.000000     3.000000  \n",
       "25%       3.110000     0.430000     9.500000     5.000000  \n",
       "50%       3.210000     0.510000    10.300000     6.000000  \n",
       "75%       3.320000     0.600000    11.300000     6.000000  \n",
       "max       4.010000     2.000000    14.900000     9.000000  "
      ]
     },
     "execution_count": 5,
     "metadata": {},
     "output_type": "execute_result"
    }
   ],
   "source": [
    "data.describe()"
   ]
  },
  {
   "cell_type": "code",
   "execution_count": 6,
   "metadata": {},
   "outputs": [
    {
     "data": {
      "text/html": [
       "<div>\n",
       "<style scoped>\n",
       "    .dataframe tbody tr th:only-of-type {\n",
       "        vertical-align: middle;\n",
       "    }\n",
       "\n",
       "    .dataframe tbody tr th {\n",
       "        vertical-align: top;\n",
       "    }\n",
       "\n",
       "    .dataframe thead th {\n",
       "        text-align: right;\n",
       "    }\n",
       "</style>\n",
       "<table border=\"1\" class=\"dataframe\">\n",
       "  <thead>\n",
       "    <tr style=\"text-align: right;\">\n",
       "      <th></th>\n",
       "      <th>type</th>\n",
       "    </tr>\n",
       "  </thead>\n",
       "  <tbody>\n",
       "    <tr>\n",
       "      <th>count</th>\n",
       "      <td>6497</td>\n",
       "    </tr>\n",
       "    <tr>\n",
       "      <th>unique</th>\n",
       "      <td>2</td>\n",
       "    </tr>\n",
       "    <tr>\n",
       "      <th>top</th>\n",
       "      <td>white</td>\n",
       "    </tr>\n",
       "    <tr>\n",
       "      <th>freq</th>\n",
       "      <td>4898</td>\n",
       "    </tr>\n",
       "  </tbody>\n",
       "</table>\n",
       "</div>"
      ],
      "text/plain": [
       "         type\n",
       "count    6497\n",
       "unique      2\n",
       "top     white\n",
       "freq     4898"
      ]
     },
     "execution_count": 6,
     "metadata": {},
     "output_type": "execute_result"
    }
   ],
   "source": [
    "data.describe(include = 'object')"
   ]
  },
  {
   "cell_type": "markdown",
   "metadata": {},
   "source": [
    "Check missing values"
   ]
  },
  {
   "cell_type": "code",
   "execution_count": 7,
   "metadata": {},
   "outputs": [
    {
     "name": "stdout",
     "output_type": "stream",
     "text": [
      "type                    0\n",
      "fixed acidity           0\n",
      "volatile acidity        0\n",
      "citric acid             0\n",
      "residual sugar          0\n",
      "chlorides               0\n",
      "free sulfur dioxide     0\n",
      "total sulfur dioxide    0\n",
      "density                 0\n",
      "pH                      0\n",
      "sulphates               0\n",
      "alcohol                 0\n",
      "quality                 0\n",
      "dtype: int64\n"
     ]
    }
   ],
   "source": [
    "print(data.isnull().sum(axis=0))"
   ]
  },
  {
   "cell_type": "markdown",
   "metadata": {},
   "source": [
    "### Exploratory Data Analysis"
   ]
  },
  {
   "cell_type": "markdown",
   "metadata": {},
   "source": [
    "### Quality"
   ]
  },
  {
   "cell_type": "code",
   "execution_count": 8,
   "metadata": {},
   "outputs": [],
   "source": [
    "#split data into red and white again\n",
    "dataRed = data.loc[data['type'] == 'red']\n",
    "dataWhite = data.loc[data['type'] == 'white']"
   ]
  },
  {
   "cell_type": "markdown",
   "metadata": {},
   "source": [
    "#### Histograms"
   ]
  },
  {
   "cell_type": "markdown",
   "metadata": {},
   "source": [
    "fig = plt.figure(figsize = (20,5))\n",
    "sns.set_style('darkgrid')\n",
    "bins = np.arange(data['quality'].min(), data['quality'].max()+1)\n",
    "plt.hist(data['quality'], bins=bins, align='left')\n",
    "plt.title(\"Both Types\")\n",
    "plt.xticks(bins)\n",
    "plt.xlabel('quality')"
   ]
  },
  {
   "cell_type": "markdown",
   "metadata": {},
   "source": [
    "#### Split into white wine and red wine\n",
    "White wine:"
   ]
  },
  {
   "cell_type": "markdown",
   "metadata": {
    "scrolled": true
   },
   "source": [
    "fig = plt.figure(figsize = (20,5))\n",
    "sns.set_style('darkgrid')\n",
    "dataWhite = data.loc[data['type'] == 'white']\n",
    "bins = np.arange(dataWhite['quality'].min(), dataWhite['quality'].max()+1)\n",
    "plt.hist(dataWhite['quality'], bins=bins, align='left')\n",
    "plt.title(\"White Wine\")\n",
    "plt.xticks(bins)\n",
    "plt.xlabel('quality')"
   ]
  },
  {
   "cell_type": "markdown",
   "metadata": {},
   "source": [
    "Red wine:"
   ]
  },
  {
   "cell_type": "markdown",
   "metadata": {},
   "source": [
    "fig = plt.figure(figsize = (20,5))\n",
    "sns.set_style('darkgrid')\n",
    "bins = np.arange(dataRed['quality'].min(), dataRed['quality'].max()+1)\n",
    "plt.hist(dataRed['quality'], bins=bins, align='left')\n",
    "plt.title(\"Red Wine\")\n",
    "plt.xticks(bins)\n",
    "plt.xlabel('quality')"
   ]
  },
  {
   "cell_type": "markdown",
   "metadata": {},
   "source": [
    "### Fixed Acidity vs. Quality "
   ]
  },
  {
   "cell_type": "markdown",
   "metadata": {},
   "source": [
    "#### Both types"
   ]
  },
  {
   "cell_type": "markdown",
   "metadata": {},
   "source": [
    "plt.figure(figsize=(20, 8))\n",
    "#sns.jointplot(data['fixed acidity'], data['quality'], kind='reg')\n",
    "plt.scatter(data['fixed acidity'], data['quality'])\n",
    "plt.title(\"Both Types\")\n",
    "plt.xlabel('fixed acidity [g(tataric acid)/100ml]')\n",
    "plt.ylabel('quality')\n",
    "plt.show()"
   ]
  },
  {
   "cell_type": "markdown",
   "metadata": {},
   "source": [
    "#### Red Wine"
   ]
  },
  {
   "cell_type": "markdown",
   "metadata": {},
   "source": [
    "plt.figure(figsize=(20, 8))\n",
    "plt.scatter(dataRed['fixed acidity'], dataRed['quality'])\n",
    "plt.title(\"Red Wine\")\n",
    "plt.xlabel('fixed acidity [g(tataric acid)/100ml]')\n",
    "plt.ylabel('quality')\n",
    "plt.show()"
   ]
  },
  {
   "cell_type": "markdown",
   "metadata": {},
   "source": [
    "#### White Wine"
   ]
  },
  {
   "cell_type": "markdown",
   "metadata": {},
   "source": [
    "plt.figure(figsize=(20, 8))\n",
    "plt.scatter(dataWhite['fixed acidity'], dataWhite['quality'])\n",
    "plt.title(\"White Wine\")\n",
    "plt.xlabel('fixed acidity [g(tataric acid)/100ml]')\n",
    "plt.ylabel('quality')\n",
    "plt.show()"
   ]
  },
  {
   "cell_type": "markdown",
   "metadata": {},
   "source": [
    "### Volatile Acidity vs. Quality "
   ]
  },
  {
   "cell_type": "markdown",
   "metadata": {},
   "source": [
    "#### Both types"
   ]
  },
  {
   "cell_type": "markdown",
   "metadata": {},
   "source": [
    "plt.figure(figsize=(20, 8))\n",
    "#sns.jointplot(data['fixed acidity'], data['quality'], kind='reg')\n",
    "plt.scatter(data['volatile acidity'], data['quality'])\n",
    "plt.title(\"Both Types\")\n",
    "plt.xlabel('volatile acidity [g(acetic acid)/100ml]')\n",
    "plt.ylabel('quality')\n",
    "plt.show()"
   ]
  },
  {
   "cell_type": "markdown",
   "metadata": {},
   "source": [
    "#### Red Wine"
   ]
  },
  {
   "cell_type": "markdown",
   "metadata": {},
   "source": [
    "plt.figure(figsize=(20, 8))\n",
    "plt.scatter(dataRed['volatile acidity'], dataRed['quality'])\n",
    "plt.title(\"Red Wine\")\n",
    "plt.xlabel('volatile acidity [g(acetic acid)/100ml]')\n",
    "plt.ylabel('quality')\n",
    "plt.show()"
   ]
  },
  {
   "cell_type": "markdown",
   "metadata": {},
   "source": [
    "#### White Wine"
   ]
  },
  {
   "cell_type": "markdown",
   "metadata": {},
   "source": [
    "plt.figure(figsize=(20, 8))\n",
    "plt.scatter(dataWhite['volatile acidity'], dataWhite['quality'])\n",
    "plt.title(\"White Wine\")\n",
    "plt.xlabel('volatile acidity [g(acetic acid)/100ml]')\n",
    "plt.ylabel('quality')\n",
    "plt.show()"
   ]
  },
  {
   "cell_type": "markdown",
   "metadata": {},
   "source": [
    "### Citric Acid vs. Quality "
   ]
  },
  {
   "cell_type": "markdown",
   "metadata": {},
   "source": [
    "#### Both types"
   ]
  },
  {
   "cell_type": "markdown",
   "metadata": {},
   "source": [
    "plt.figure(figsize=(20, 8))\n",
    "#sns.jointplot(data['fixed acidity'], data['quality'], kind='reg')\n",
    "plt.scatter(data['citric acid'], data['quality'])\n",
    "plt.title(\"Both Types\")\n",
    "plt.xlabel('citric acid [g/l]')\n",
    "plt.ylabel('quality')\n",
    "plt.show()"
   ]
  },
  {
   "cell_type": "markdown",
   "metadata": {},
   "source": [
    "#### Red Wine"
   ]
  },
  {
   "cell_type": "markdown",
   "metadata": {},
   "source": [
    "plt.figure(figsize=(20, 8))\n",
    "plt.scatter(dataRed['citric acid'], dataRed['quality'])\n",
    "plt.title(\"Red Wine\")\n",
    "plt.xlabel('citric acid [g/l]')\n",
    "plt.ylabel('quality')\n",
    "plt.show()"
   ]
  },
  {
   "cell_type": "markdown",
   "metadata": {},
   "source": [
    "#### White Wine"
   ]
  },
  {
   "cell_type": "markdown",
   "metadata": {},
   "source": [
    "plt.figure(figsize=(20, 8))\n",
    "plt.scatter(dataWhite['citric acid'], dataWhite['quality'])\n",
    "plt.title(\"White Wine\")\n",
    "plt.xlabel('citric acid [g/l]')\n",
    "plt.ylabel('quality')\n",
    "plt.show()"
   ]
  },
  {
   "cell_type": "markdown",
   "metadata": {},
   "source": [
    "### Residual Sugar vs. Quality "
   ]
  },
  {
   "cell_type": "markdown",
   "metadata": {},
   "source": [
    "#### Both types"
   ]
  },
  {
   "cell_type": "markdown",
   "metadata": {},
   "source": [
    "plt.figure(figsize=(20, 8))\n",
    "#sns.jointplot(data['fixed acidity'], data['quality'], kind='reg')\n",
    "plt.scatter(data['residual sugar'], data['quality'])\n",
    "plt.title(\"Both Types\")\n",
    "plt.xlabel('residual sugar [g/l]')\n",
    "plt.ylabel('quality')\n",
    "plt.show()"
   ]
  },
  {
   "cell_type": "markdown",
   "metadata": {},
   "source": [
    "#### Red Wine"
   ]
  },
  {
   "cell_type": "markdown",
   "metadata": {},
   "source": [
    "plt.figure(figsize=(20, 8))\n",
    "plt.scatter(dataRed['residual sugar'], dataRed['quality'])\n",
    "plt.title(\"Red Wine\")\n",
    "plt.xlabel('residual sugar [g/l]')\n",
    "plt.ylabel('quality')\n",
    "plt.show()"
   ]
  },
  {
   "cell_type": "markdown",
   "metadata": {},
   "source": [
    "#### White Wine"
   ]
  },
  {
   "cell_type": "markdown",
   "metadata": {},
   "source": [
    "plt.figure(figsize=(20, 8))\n",
    "plt.scatter(dataWhite['residual sugar'], dataWhite['quality'])\n",
    "plt.title(\"White Wine\")\n",
    "plt.xlabel('residual sugar [g/l]')\n",
    "plt.ylabel('quality')\n",
    "plt.show()"
   ]
  },
  {
   "cell_type": "markdown",
   "metadata": {},
   "source": [
    "### Chlorides vs. Quality "
   ]
  },
  {
   "cell_type": "markdown",
   "metadata": {},
   "source": [
    "#### Both types"
   ]
  },
  {
   "cell_type": "markdown",
   "metadata": {},
   "source": [
    "plt.figure(figsize=(20, 8))\n",
    "#sns.jointplot(data['fixed acidity'], data['quality'], kind='reg')\n",
    "plt.scatter(data['chlorides'], data['quality'])\n",
    "plt.title(\"Both Types\")\n",
    "plt.xlabel('chlorides [g(sodium chloride)/l]')\n",
    "plt.ylabel('quality')\n",
    "plt.show()"
   ]
  },
  {
   "cell_type": "markdown",
   "metadata": {},
   "source": [
    "#### Red Wine"
   ]
  },
  {
   "cell_type": "markdown",
   "metadata": {},
   "source": [
    "plt.figure(figsize=(20, 8))\n",
    "plt.scatter(dataRed['chlorides'], dataRed['quality'])\n",
    "plt.title(\"Red Wine\")\n",
    "plt.xlabel('chlorides [g(sodium chloride)/l]')\n",
    "plt.ylabel('quality')\n",
    "plt.show()"
   ]
  },
  {
   "cell_type": "markdown",
   "metadata": {},
   "source": [
    "#### White Wine"
   ]
  },
  {
   "cell_type": "markdown",
   "metadata": {},
   "source": [
    "plt.figure(figsize=(20, 8))\n",
    "plt.scatter(dataWhite['chlorides'], dataWhite['quality'])\n",
    "plt.title(\"White Wine\")\n",
    "plt.xlabel('chlorides [g(sodium chloride)/l]')\n",
    "plt.ylabel('quality')\n",
    "plt.show()"
   ]
  },
  {
   "cell_type": "markdown",
   "metadata": {},
   "source": [
    "### Free Sulfur Dioxide vs. Quality "
   ]
  },
  {
   "cell_type": "markdown",
   "metadata": {},
   "source": [
    "#### Both types"
   ]
  },
  {
   "cell_type": "markdown",
   "metadata": {},
   "source": [
    "plt.figure(figsize=(20, 8))\n",
    "#sns.jointplot(data['fixed acidity'], data['quality'], kind='reg')\n",
    "plt.scatter(data['free sulfur dioxide'], data['quality'])\n",
    "plt.title(\"Both Types\")\n",
    "plt.xlabel('free sulfur dioxide [mg/l]')\n",
    "plt.ylabel('quality')\n",
    "plt.show()"
   ]
  },
  {
   "cell_type": "markdown",
   "metadata": {},
   "source": [
    "#### Red Wine"
   ]
  },
  {
   "cell_type": "markdown",
   "metadata": {},
   "source": [
    "plt.figure(figsize=(20, 8))\n",
    "plt.scatter(dataRed['free sulfur dioxide'], dataRed['quality'])\n",
    "plt.title(\"Red Wine\")\n",
    "plt.xlabel('free sulfur dioxide [mg/l]')\n",
    "plt.ylabel('quality')\n",
    "plt.show()"
   ]
  },
  {
   "cell_type": "markdown",
   "metadata": {},
   "source": [
    "#### White Wine"
   ]
  },
  {
   "cell_type": "markdown",
   "metadata": {},
   "source": [
    "plt.figure(figsize=(20, 8))\n",
    "plt.scatter(dataWhite['free sulfur dioxide'], dataWhite['quality'])\n",
    "plt.title(\"White Wine\")\n",
    "plt.xlabel('free sulfur dioxide [mg/l]')\n",
    "plt.ylabel('quality')\n",
    "plt.show()"
   ]
  },
  {
   "cell_type": "markdown",
   "metadata": {},
   "source": [
    "### Total Sulfur Dioxide vs. Quality "
   ]
  },
  {
   "cell_type": "markdown",
   "metadata": {},
   "source": [
    "#### Both types"
   ]
  },
  {
   "cell_type": "markdown",
   "metadata": {},
   "source": [
    "plt.figure(figsize=(20, 8))\n",
    "#sns.jointplot(data['fixed acidity'], data['quality'], kind='reg')\n",
    "plt.scatter(data['total sulfur dioxide'], data['quality'])\n",
    "plt.title(\"Both Types\")\n",
    "plt.xlabel('total sulfur dioxide [mg/l]')\n",
    "plt.ylabel('quality')\n",
    "plt.show()"
   ]
  },
  {
   "cell_type": "markdown",
   "metadata": {},
   "source": [
    "#### Red Wine"
   ]
  },
  {
   "cell_type": "markdown",
   "metadata": {},
   "source": [
    "plt.figure(figsize=(20, 8))\n",
    "plt.scatter(dataRed['total sulfur dioxide'], dataRed['quality'])\n",
    "plt.title(\"Red Wine\")\n",
    "plt.xlabel('total sulfur dioxide [mg/l]')\n",
    "plt.ylabel('quality')\n",
    "plt.show()"
   ]
  },
  {
   "cell_type": "markdown",
   "metadata": {},
   "source": [
    "#### White Wine"
   ]
  },
  {
   "cell_type": "markdown",
   "metadata": {},
   "source": [
    "plt.figure(figsize=(20, 8))\n",
    "plt.scatter(dataWhite['total sulfur dioxide'], dataWhite['quality'])\n",
    "plt.title(\"White Wine\")\n",
    "plt.xlabel('total sulfur dioxide [mg/l]')\n",
    "plt.ylabel('quality')\n",
    "plt.show()"
   ]
  },
  {
   "cell_type": "markdown",
   "metadata": {},
   "source": [
    "### Density vs. Quality "
   ]
  },
  {
   "cell_type": "markdown",
   "metadata": {},
   "source": [
    "#### Both types"
   ]
  },
  {
   "cell_type": "markdown",
   "metadata": {},
   "source": [
    "plt.figure(figsize=(20, 8))\n",
    "#sns.jointplot(data['fixed acidity'], data['quality'], kind='reg')\n",
    "plt.scatter(data['density'], data['quality'])\n",
    "plt.title(\"Both Types\")\n",
    "plt.xlabel('density [g/cm³]')\n",
    "plt.ylabel('quality')\n",
    "plt.show()"
   ]
  },
  {
   "cell_type": "markdown",
   "metadata": {},
   "source": [
    "#### Red Wine"
   ]
  },
  {
   "cell_type": "markdown",
   "metadata": {},
   "source": [
    "plt.figure(figsize=(20, 8))\n",
    "plt.scatter(dataRed['density'], dataRed['quality'])\n",
    "plt.title(\"Red Wine\")\n",
    "plt.xlabel('density [g/cm³]')\n",
    "plt.ylabel('quality')\n",
    "plt.show()"
   ]
  },
  {
   "cell_type": "markdown",
   "metadata": {},
   "source": [
    "#### White Wine"
   ]
  },
  {
   "cell_type": "markdown",
   "metadata": {},
   "source": [
    "plt.figure(figsize=(20, 8))\n",
    "plt.scatter(dataWhite['density'], dataWhite['quality'])\n",
    "plt.title(\"White Wine\")\n",
    "plt.xlabel('density [g/cm³]')\n",
    "plt.ylabel('quality')\n",
    "plt.show()"
   ]
  },
  {
   "cell_type": "markdown",
   "metadata": {},
   "source": [
    "### pH value vs. Quality "
   ]
  },
  {
   "cell_type": "markdown",
   "metadata": {},
   "source": [
    "#### Both types"
   ]
  },
  {
   "cell_type": "markdown",
   "metadata": {},
   "source": [
    "plt.figure(figsize=(20, 8))\n",
    "#sns.jointplot(data['fixed acidity'], data['quality'], kind='reg')\n",
    "plt.scatter(data['pH'], data['quality'])\n",
    "plt.title(\"Both Types\")\n",
    "plt.xlabel('pH')\n",
    "plt.ylabel('quality')\n",
    "plt.show()"
   ]
  },
  {
   "cell_type": "markdown",
   "metadata": {},
   "source": [
    "#### Red Wine"
   ]
  },
  {
   "cell_type": "markdown",
   "metadata": {},
   "source": [
    "plt.figure(figsize=(20, 8))\n",
    "plt.scatter(dataRed['pH'], dataRed['quality'])\n",
    "plt.title(\"Red Wine\")\n",
    "plt.xlabel('pH')\n",
    "plt.ylabel('quality')\n",
    "plt.show()"
   ]
  },
  {
   "cell_type": "markdown",
   "metadata": {},
   "source": [
    "#### White Wine"
   ]
  },
  {
   "cell_type": "markdown",
   "metadata": {},
   "source": [
    "plt.figure(figsize=(20, 8))\n",
    "plt.scatter(dataWhite['pH'], dataWhite['quality'])\n",
    "plt.title(\"White Wine\")\n",
    "plt.xlabel('pH')\n",
    "plt.ylabel('quality')\n",
    "plt.show()"
   ]
  },
  {
   "cell_type": "markdown",
   "metadata": {},
   "source": [
    "### Sulphates vs. Quality "
   ]
  },
  {
   "cell_type": "markdown",
   "metadata": {},
   "source": [
    "#### Both types"
   ]
  },
  {
   "cell_type": "markdown",
   "metadata": {},
   "source": [
    "plt.figure(figsize=(20, 8))\n",
    "#sns.jointplot(data['fixed acidity'], data['quality'], kind='reg')\n",
    "plt.scatter(data['sulphates'], data['quality'])\n",
    "plt.title(\"Both Types\")\n",
    "plt.xlabel('sulphates [g(potassium sulfate)/l]')\n",
    "plt.ylabel('quality')\n",
    "plt.show()"
   ]
  },
  {
   "cell_type": "markdown",
   "metadata": {},
   "source": [
    "#### Red Wine"
   ]
  },
  {
   "cell_type": "markdown",
   "metadata": {},
   "source": [
    "plt.figure(figsize=(20, 8))\n",
    "plt.scatter(dataRed['sulphates'], dataRed['quality'])\n",
    "plt.title(\"Red Wine\")\n",
    "plt.xlabel('sulphates [g(potassium sulfate)/l]')\n",
    "plt.ylabel('quality')\n",
    "plt.show()"
   ]
  },
  {
   "cell_type": "markdown",
   "metadata": {},
   "source": [
    "#### White Wine"
   ]
  },
  {
   "cell_type": "markdown",
   "metadata": {},
   "source": [
    "plt.figure(figsize=(20, 8))\n",
    "plt.scatter(dataWhite['sulphates'], dataWhite['quality'])\n",
    "plt.title(\"White Wine\")\n",
    "plt.xlabel('sulphates [g(potassium sulfate)/l]')\n",
    "plt.ylabel('quality')\n",
    "plt.show()"
   ]
  },
  {
   "cell_type": "markdown",
   "metadata": {},
   "source": [
    "### Alcohol Content vs. Quality "
   ]
  },
  {
   "cell_type": "markdown",
   "metadata": {},
   "source": [
    "#### Both types"
   ]
  },
  {
   "cell_type": "markdown",
   "metadata": {},
   "source": [
    "plt.figure(figsize=(20, 8))\n",
    "#sns.jointplot(data['fixed acidity'], data['quality'], kind='reg')\n",
    "plt.scatter(data['alcohol'], data['quality'])\n",
    "plt.title(\"Both Types\")\n",
    "plt.xlabel('alcohol [vol%]')\n",
    "plt.ylabel('quality')\n",
    "plt.show()"
   ]
  },
  {
   "cell_type": "markdown",
   "metadata": {},
   "source": [
    "#### Red Wine"
   ]
  },
  {
   "cell_type": "markdown",
   "metadata": {},
   "source": [
    "plt.figure(figsize=(20, 8))\n",
    "plt.scatter(dataRed['alcohol'], dataRed['quality'])\n",
    "plt.title(\"Red Wine\")\n",
    "plt.xlabel('alcohol [vol%]')\n",
    "plt.ylabel('quality')\n",
    "plt.show()"
   ]
  },
  {
   "cell_type": "markdown",
   "metadata": {},
   "source": [
    "#### White Wine"
   ]
  },
  {
   "cell_type": "markdown",
   "metadata": {},
   "source": [
    "plt.figure(figsize=(20, 8))\n",
    "plt.scatter(dataWhite['alcohol'], dataWhite['quality'])\n",
    "plt.title(\"White Wine\")\n",
    "plt.xlabel('alcohol [vol%]')\n",
    "plt.ylabel('quality')\n",
    "plt.show()"
   ]
  },
  {
   "cell_type": "markdown",
   "metadata": {},
   "source": [
    "# 2) Preprocessing"
   ]
  },
  {
   "cell_type": "code",
   "execution_count": 9,
   "metadata": {},
   "outputs": [],
   "source": [
    "#first convert the strings 'white' and 'red' to 0 and 1 respectively\n",
    "mapping = {'white': 0, 'red': 1}\n",
    "data = data.replace({'type': mapping})\n",
    "\n",
    "#Then split data into red and white again with that mapping\n",
    "dataWhite = dataWhite.replace({'type': mapping})\n",
    "dataRed = dataRed.replace({'type': mapping})\n",
    "\n",
    "#split the data in attributes and class\n",
    "X = data.drop('quality', axis=1)\n",
    "y = data['quality']\n",
    "\n",
    "#split the data in attributes and class\n",
    "XWhite = dataWhite.drop('quality', axis=1)\n",
    "yWhite = dataWhite['quality']\n",
    "\n",
    "XRed = dataRed.drop('quality', axis=1)\n",
    "yRed = dataRed['quality']\n"
   ]
  },
  {
   "cell_type": "markdown",
   "metadata": {},
   "source": [
    "##  2.1) Feature Selection \n",
    "\n",
    "**Choose one of the methods:**\n",
    "1. SelectPercentile (chi2)\n",
    "2. SelectFromModel (LinearSVC)\n",
    "3. SelectFromModel (LogisticRegression)\n",
    "3. SelectFromModel (ExtraTreesClassifier)\n",
    "\n",
    "## 2.2) Data Pre-processing\n",
    "\n",
    "**Choose one of the methods:**\n",
    "1. Standardization (StandardScaler)\n",
    "2. Standardization (RobustScaler)\n",
    "3. MinMaxScaler\n",
    "4. Normalization\n",
    "\n",
    "## 2.3)Outliers Detection using mathematical function Z-Score\n",
    "\n",
    "\n",
    "### All three features included in the following function:"
   ]
  },
  {
   "cell_type": "code",
   "execution_count": 10,
   "metadata": {},
   "outputs": [],
   "source": [
    "def featureSelection(XCurr, yCurr, featureselection_method, preprocessing_method):\n",
    "    if featureselection_method == 1:\n",
    "        selection = SelectPercentile(chi2, percentile=5)\n",
    "    elif featureselection_method == 2:\n",
    "        clf = LinearSVC()\n",
    "        #clf = LinearSVC(C=0.1, penalty=\"l1\", dual=False).fit(X, y)\n",
    "        selection = SelectFromModel(clf, prefit=False)\n",
    "    elif featureselection_method == 3:\n",
    "        clf = LogisticRegression()\n",
    "        #clf = LogisticRegression(C=0.2, penalty=\"l2\", dual=False, max_iter=200).fit(X, y)\n",
    "        selection = SelectFromModel(clf, prefit=False)\n",
    "    elif featureselection_method == 4:\n",
    "        clf = ExtraTreesClassifier(n_estimators=50).fit(XCurr, yCurr)\n",
    "        selection = SelectFromModel(clf, prefit=False)      \n",
    "\n",
    "    clf.feature_importances_ \n",
    "    X_transformed = selection.fit_transform(XCurr, yCurr)\n",
    "    columns = np.asarray(XCurr.columns.values)\n",
    "    support = np.asarray(selection.get_support())\n",
    "    columns_with_support = columns[support]\n",
    "    print(\"X_transformed.shape\",X_transformed.shape)\n",
    "\n",
    "    \n",
    "    #Data Pre-processing:\n",
    "    if preprocessing_method == 1:\n",
    "        scaler = StandardScaler()\n",
    "        scaler = scaler.fit(X_transformed)\n",
    "        X_scaled = scaler.transform(X_transformed)\n",
    "    elif preprocessing_method == 2:\n",
    "        scaler = RobustScaler()\n",
    "        scaler = scaler.fit(X_transformed)\n",
    "        X_scaled = scaler.transform(X_transformed)\n",
    "    elif preprocessing_method == 3:\n",
    "        scaler = preprocessing.MinMaxScaler()\n",
    "        scaler = scaler.fit(X_transformed)\n",
    "        X_scaled = scaler.transform(X_transformed)\n",
    "    elif preprocessing_method == 4:\n",
    "        scaler = preprocessing.Normalizer()\n",
    "        scaler = scaler.fit(X_transformed)\n",
    "        X_scaled = scaler.transform(X_transformed)\n",
    "    print(\"X_scaled = \",X_scaled)\n",
    "    \n",
    "    \n",
    "    #Outlier Detection:\n",
    "    z = np.abs(stats.zscore(X_scaled))\n",
    "    threshold = 20\n",
    "    outliers_rows = np.where(z > threshold)\n",
    "    print(\"\\n z > threshold = \", np.where(z > threshold))\n",
    "    # The first array contains the list of row numbers and second array respective column numbers\n",
    "    print(\"\\n number of outliers = \",len(set(outliers_rows[0])))\n",
    "    \n",
    "    #Remove Ouliers\n",
    "    #X_prepared = X_scaled[(np.abs(stats.zscore(X_scaled)) < threshold).all(axis=1)]\n",
    "    #X_prepared.shape\n",
    "    #y = y.to_numpy()\n",
    "    \n",
    "    #X_train, X_test, y_train, y_test = train_test_split(X_scaled, yCurr, test_size=0.30)\n",
    "    #return(X_train, X_test, y_train, y_test)\n",
    "    return(X_scaled, yCurr)"
   ]
  },
  {
   "cell_type": "code",
   "execution_count": 11,
   "metadata": {},
   "outputs": [],
   "source": [
    "featureselection_method = 4\n",
    "preprocessing_method = 1"
   ]
  },
  {
   "cell_type": "code",
   "execution_count": 12,
   "metadata": {},
   "outputs": [
    {
     "name": "stdout",
     "output_type": "stream",
     "text": [
      "\n",
      "-------------------both types ------------------\n",
      "\n",
      "X_transformed.shape (6497, 6)\n",
      "X_scaled =  [[ 2.18883292 -1.10013986 -1.44635852  1.03499282  0.19309677 -0.91546416]\n",
      " [ 3.28223494 -0.31132009 -0.86246863  0.70148631  0.99957862 -0.58006813]\n",
      " [ 2.55330026 -0.87476278 -1.09248586  0.76818761  0.79795816 -0.58006813]\n",
      " ...\n",
      " [-0.6054167  -0.02959874 -0.08394876 -0.71925142 -0.47897144 -0.91546416]\n",
      " [-0.30169391 -0.59304143 -0.10164239 -2.00325148 -1.016626    1.9354021 ]\n",
      " [-0.78765037 -0.48035289 -0.31396599 -1.7631268  -1.41986693  1.09691202]]\n",
      "\n",
      " z > threshold =  (array([], dtype=int64), array([], dtype=int64))\n",
      "\n",
      " number of outliers =  0\n",
      "\n",
      "--------------------red wine -------------------\n",
      "\n",
      "X_transformed.shape (1599, 5)\n",
      "X_scaled =  [[ 0.96187667 -0.37913269  0.55827446 -0.57920652 -0.96024611]\n",
      " [ 1.96744245  0.62436323  0.02826077  0.1289504  -0.58477711]\n",
      " [ 1.29706527  0.22904665  0.13426351 -0.04808883 -0.58477711]\n",
      " ...\n",
      " [-0.09955388 -0.19667889 -0.53355375  0.54204194  0.54162988]\n",
      " [ 0.65462046 -0.07504302 -0.67665745  0.30598963 -0.20930812]\n",
      " [-1.21684919 -0.13586095 -0.66605717  0.01092425  0.54162988]]\n",
      "\n",
      " z > threshold =  (array([], dtype=int64), array([], dtype=int64))\n",
      "\n",
      " number of outliers =  0\n",
      "\n",
      "-------------------white wine------------------\n",
      "\n",
      "X_transformed.shape (4898, 9)\n",
      "X_scaled =  [[-0.0817699   0.2132802   2.82134917 ...  2.33151201 -1.24692128\n",
      "  -1.39315246]\n",
      " [ 0.21589563  0.04800112 -0.94476527 ... -0.00915417  0.74002864\n",
      "  -0.82427568]\n",
      " [ 0.01745194  0.54383836  0.10028219 ...  0.3586648   0.47510198\n",
      "  -0.33666701]\n",
      " ...\n",
      " [-0.37943543 -1.19159198 -1.02363678 ... -0.49735026 -1.31315295\n",
      "  -0.90554379]\n",
      " [ 0.11667379 -0.28255704 -1.04335466 ... -1.78471666  1.0049553\n",
      "   1.85757201]\n",
      " [-0.67710097  0.37855928 -1.10250829 ... -1.54396243  0.47510198\n",
      "   1.04489089]]\n",
      "\n",
      " z > threshold =  (array([], dtype=int64), array([], dtype=int64))\n",
      "\n",
      " number of outliers =  0\n"
     ]
    }
   ],
   "source": [
    "print('\\n-------------------both types ------------------\\n')\n",
    "X, y = featureSelection(X, y, featureselection_method, preprocessing_method)\n",
    "\n",
    "print('\\n--------------------red wine -------------------\\n')\n",
    "XRed, yRed = featureSelection(XRed, yRed, featureselection_method, preprocessing_method)\n",
    "\n",
    "print('\\n-------------------white wine------------------\\n')\n",
    "XWhite, yWhite = featureSelection(XWhite, yWhite, featureselection_method, preprocessing_method)"
   ]
  },
  {
   "cell_type": "markdown",
   "metadata": {},
   "source": [
    "# 3) Learning Algorithms\n",
    "\n",
    "Here we try to find the three best classifiers with their standard settings, then compare the influence of hyperparameter optimization. \n",
    "\n",
    "**Types:**\n",
    "- Linear Classifiers: Logistic Regression, Naive Bayes Classifier\n",
    "- Nearest Neighbor\n",
    "- Support Vector Machines\n",
    "- Decision Trees\n",
    "- Random Forest\n",
    "- Neural Networks"
   ]
  },
  {
   "cell_type": "code",
   "execution_count": 13,
   "metadata": {},
   "outputs": [],
   "source": [
    "NN = 1\n",
    "\n",
    "d = {}\n",
    "\n",
    "d[\"Logistic Regression\"] = LogisticRegression(max_iter=200)\n",
    "d[\"Gaussian Naive Bayes\"] = GaussianNB()\n",
    "\n",
    "d[\"KNearest Neighbors (\"+ str(NN) + \")\"] = KNeighborsClassifier(n_neighbors=NN)\n",
    "\n",
    "d[\"SVM rbf\"] = SVC()\n",
    "d[\"SGD Classifier\"] = SGDClassifier()\n",
    "\n",
    "d[\"Decision Tree\"] = DecisionTreeClassifier()\n",
    "\n",
    "d[\"Random Forest\"] = RandomForestClassifier()\n",
    "\n",
    "d[\"Multi-layer Perceptron Classifier\"] = MLPClassifier(max_iter=1000)"
   ]
  },
  {
   "cell_type": "markdown",
   "metadata": {},
   "source": [
    "### General Remark:\n",
    "Depending on the split of test and training set sometimes the ranking of the accuracy of the 8 claassifiers changes a bit. therefore I decided to choose Random Forest, KNearest Neighbors and Decision Tree calssifiers for the hyperparameter optimization. These three seemed to be the top three choices most often with the standard parameters. Also for consistency I will compare the same three classifiers for the 3 different data sets (both wines, red wines and white wines)"
   ]
  },
  {
   "cell_type": "markdown",
   "metadata": {},
   "source": [
    "## 3.1) Comparison of Classifiers with standard settings"
   ]
  },
  {
   "cell_type": "code",
   "execution_count": 78,
   "metadata": {},
   "outputs": [],
   "source": [
    "def compareClassifiers(X, y, d):\n",
    "    N = 2\n",
    "    \n",
    "    scoreList = [0]*len(d.items())\n",
    "    highScoreList = [0]*len(d.items())\n",
    "    nameList = ['a']*len(d.items())\n",
    "    \n",
    "    for i in range(0,N):\n",
    "        X_train, X_test, y_train, y_test = train_test_split(X, y, test_size=0.30)\n",
    "        \n",
    "        counter = 0\n",
    "        for name, clf in d.items():\n",
    "            clf.fit(X_train, y_train)\n",
    "            y_pred = clf.predict(X_test)\n",
    "            score = accuracy_score(y_test, y_pred)\n",
    "            scoreList[counter] = scoreList[counter] + score\n",
    "            if score > highScoreList[counter]:\n",
    "                highScoreList[counter] = score\n",
    "                \n",
    "            nameList[counter] = name #overwrites n times but whatever \n",
    "            print(\"i = \", i, \" counter = \", counter, \"score = \", score)\n",
    "            counter += 1\n",
    " \n",
    "    scoreList[:] = [x / N for x in scoreList]\n",
    "                             \n",
    "    ranking = sorted(zip(scoreList,nameList,highScoreList))[::-1]\n",
    "    #print(sorted(zip(scoreList,nameList)))\n",
    "    print(\"\\nClassifiers from best to worst:\")\n",
    "    for i in range(0, len(ranking)):\n",
    "        print(i+1, ') {:35} averageScore: {:20}  bestScore: {:20}'.format(ranking[i][1], str(ranking[i][0]), str(ranking[i][2])))\n",
    "        #print(ranking[i][1], ranking[i][0],ranking[i][2])\n",
    "    return(y_test, y_train, X_test, X_train, ranking)"
   ]
  },
  {
   "cell_type": "markdown",
   "metadata": {},
   "source": [
    "#old version: (-1 indent...)\n",
    "y_test, y_train, X_test, X_train = train_test_split(X, y, test_size=0.20)\n",
    "scoreList = []\n",
    "nameList = []\n",
    "counter = 0\n",
    "\n",
    "for name, clf in d.items():\n",
    "    start = time.time()\n",
    "    clf.fit(X_train, y_train)\n",
    "    y_pred = clf.predict(X_test)\n",
    "    score = accuracy_score(y_test, y_pred)\n",
    "    scoreList.append(accuracy_score(y_test, y_pred))\n",
    "    nameList.append(name)\n",
    "\n",
    "    end = time.time()\n",
    "    print(\"\\n--------------\",name,\"---------------\\n\")\n",
    "    print(\"- Accuracy: %f\" % score, \"- Time: %0.2f\" % (end - start), \"seconds\")\n",
    "    print(\"\\n Number of mislabeled points out of a total %d points : %d \\n\\n\"% (X_test.shape[0], (y_test != y_pred).sum()))\n",
    "    print(confusion_matrix(y_test, y_pred))\n",
    "    print(classification_report(y_test, y_pred))\n",
    "\n",
    "\n",
    "\n",
    "print(\"###############\")\n",
    "ranking = sorted(zip(scoreList,nameList))[::-1]\n",
    "#print(sorted(zip(scoreList,nameList)))\n",
    "print(\"\\nClassifiers from best to worst:\")\n",
    "for i in range(0, len(ranking)):\n",
    "    print(i+1, ') {0:35} score: {1}'.format(ranking[i][1], ranking[i][0]))\n",
    "\n",
    "#return(y_test, y_train, X_test, X_train, ranking)"
   ]
  },
  {
   "cell_type": "markdown",
   "metadata": {},
   "source": [
    "### 3.1.1) Both Wines"
   ]
  },
  {
   "cell_type": "code",
   "execution_count": 79,
   "metadata": {},
   "outputs": [
    {
     "name": "stdout",
     "output_type": "stream",
     "text": [
      "i =  0  counter =  0 score =  0.5441025641025641\n",
      "i =  0  counter =  1 score =  0.48615384615384616\n",
      "i =  0  counter =  2 score =  0.6035897435897436\n",
      "i =  0  counter =  3 score =  0.5579487179487179\n",
      "i =  0  counter =  4 score =  0.5066666666666667\n",
      "i =  0  counter =  5 score =  0.6107692307692307\n",
      "i =  0  counter =  6 score =  0.6666666666666666\n",
      "i =  0  counter =  7 score =  0.5820512820512821\n",
      "i =  1  counter =  0 score =  0.5487179487179488\n",
      "i =  1  counter =  1 score =  0.49948717948717947\n",
      "i =  1  counter =  2 score =  0.6117948717948718\n",
      "i =  1  counter =  3 score =  0.56\n",
      "i =  1  counter =  4 score =  0.5158974358974359\n",
      "i =  1  counter =  5 score =  0.58\n",
      "i =  1  counter =  6 score =  0.6569230769230769\n",
      "i =  1  counter =  7 score =  0.5605128205128205\n",
      "\n",
      "Classifiers from best to worst:\n",
      "1 ) Random Forest                       averageScore: 0.6617948717948718    bestScore: 0.6666666666666666  \n",
      "2 ) KNearest Neighbors (1)              averageScore: 0.6076923076923078    bestScore: 0.6117948717948718  \n",
      "3 ) Decision Tree                       averageScore: 0.5953846153846154    bestScore: 0.6107692307692307  \n",
      "4 ) Multi-layer Perceptron Classifier   averageScore: 0.5712820512820513    bestScore: 0.5820512820512821  \n",
      "5 ) SVM rbf                             averageScore: 0.558974358974359     bestScore: 0.56                \n",
      "6 ) Logistic Regression                 averageScore: 0.5464102564102564    bestScore: 0.5487179487179488  \n",
      "7 ) SGD Classifier                      averageScore: 0.5112820512820513    bestScore: 0.5158974358974359  \n",
      "8 ) Gaussian Naive Bayes                averageScore: 0.4928205128205128    bestScore: 0.49948717948717947 \n"
     ]
    }
   ],
   "source": [
    "y_test, y_train, X_test, X_train, rankingBoth = compareClassifiers(X, y, d)"
   ]
  },
  {
   "cell_type": "markdown",
   "metadata": {},
   "source": [
    "### 3.1.2) Red Wine only"
   ]
  },
  {
   "cell_type": "code",
   "execution_count": null,
   "metadata": {},
   "outputs": [],
   "source": [
    "yRed_test, yRed_train, XRed_test, XRed_train, rankingRed = compareClassifiers(XRed, yRed, d)"
   ]
  },
  {
   "cell_type": "markdown",
   "metadata": {},
   "source": [
    "### 3.1.3) White Wine only"
   ]
  },
  {
   "cell_type": "code",
   "execution_count": null,
   "metadata": {},
   "outputs": [],
   "source": [
    "yWhite_test, yWhite_train, XWhite_test, XWhite_train, rankingWhite = compareClassifiers(XWhite, yWhite, d)"
   ]
  },
  {
   "cell_type": "markdown",
   "metadata": {},
   "source": [
    "## 3.2) Hyperparameter Optimization"
   ]
  },
  {
   "cell_type": "code",
   "execution_count": 100,
   "metadata": {},
   "outputs": [],
   "source": [
    "def hyperparameterOptimization(classifierName, param_grid, ranking, y_test, y_train, X_test, X_train):\n",
    "    names = [j for i,j,k in ranking]\n",
    "    index = names.index(classifierName)\n",
    "    #print(ranking[index][1])\n",
    "\n",
    "    start = time.time()\n",
    "    clf_gridsearch = GridSearchCV(d.get(ranking[index][1]), param_grid, verbose=0)\n",
    "    clf_gridsearch.fit(X_train, y_train)\n",
    "    print(clf_gridsearch.best_params_)\n",
    "    predictions = clf_gridsearch.predict(X_test)\n",
    "    #print(\"test =\",predictions)\n",
    "    score_gridsearch = accuracy_score(y_test, predictions)\n",
    "    end = time.time()\n",
    "    print(\"GridSearchCV - Accuracy: %f\" % score_gridsearch, \"- Time: %0.2f\" % (end - start), \"seconds\")\n",
    "    print(\"Previous best Accuracy: \", ranking[index][2])\n",
    "   \n",
    "    print(\"\\n\\nAdditional statistics for prediction using best parameters:\\n\")\n",
    "    print(\"Number of mislabeled points out of a total %d points : %d \\n\"% (X_test.shape[0], (y_test != predictions).sum()))\n",
    "    print(\"Confusion Matrix:\\n\",confusion_matrix(y_test, predictions))\n",
    "    print(\"Classsification Report: \\n\",classification_report(y_test, predictions))\n",
    "    \n",
    "    return()"
   ]
  },
  {
   "cell_type": "markdown",
   "metadata": {},
   "source": [
    "### 3.2.1) RandomForest"
   ]
  },
  {
   "cell_type": "markdown",
   "metadata": {},
   "source": [
    "#### Parameter Grid"
   ]
  },
  {
   "cell_type": "code",
   "execution_count": 81,
   "metadata": {},
   "outputs": [],
   "source": [
    "param_grid = {'bootstrap': [True, False],\n",
    "              'criterion' : ['gini', 'entropy'],\n",
    "              'max_depth': [10, 50, 100, None],\n",
    "              'max_features': ['auto', 'sqrt'],\n",
    "              'min_samples_leaf': [1, 2, 4],\n",
    "              'n_estimators': [100, 1000]}"
   ]
  },
  {
   "cell_type": "markdown",
   "metadata": {},
   "source": [
    "#### 3.2.1.1) Both Wines"
   ]
  },
  {
   "cell_type": "code",
   "execution_count": null,
   "metadata": {},
   "outputs": [],
   "source": [
    "hyperparameterOptimization('Random Forest', param_grid, rankingBoth, y_test, y_train, X_test, X_train)\n",
    "#y_pred = clf.predict(X_test)\n",
    "#score = accuracy_score(y_test, y_pred)\n",
    "#print('Accuracy without optimization = ', score) #needed because train/test set split changes from previous best score!"
   ]
  },
  {
   "cell_type": "markdown",
   "metadata": {},
   "source": [
    "#### 3.2.1.2) Red Wine"
   ]
  },
  {
   "cell_type": "code",
   "execution_count": null,
   "metadata": {},
   "outputs": [],
   "source": [
    "hyperparameterOptimization('Random Forest', param_grid, rankingRed, yRed_test, yRed_train, XRed_test, XRed_train)"
   ]
  },
  {
   "cell_type": "markdown",
   "metadata": {},
   "source": [
    "#### 3.2.1.3) White Wine"
   ]
  },
  {
   "cell_type": "code",
   "execution_count": null,
   "metadata": {},
   "outputs": [],
   "source": [
    "hyperparameterOptimization('Random Forest', param_grid, rankingWhite, yWhite_test, yWhite_train, XWhite_test, XWhite_train)"
   ]
  },
  {
   "cell_type": "markdown",
   "metadata": {},
   "source": [
    "### 3.2.2) KNearest Neighbors"
   ]
  },
  {
   "cell_type": "markdown",
   "metadata": {},
   "source": [
    "#### Parameter Grid"
   ]
  },
  {
   "cell_type": "code",
   "execution_count": 101,
   "metadata": {},
   "outputs": [],
   "source": [
    "param_grid = param_grid = {'n_neighbors': [1,2,5,10,25,50,75,100,125],\n",
    "              'weights': ['uniform', 'distance'],\n",
    "              'p': [1, 2]}"
   ]
  },
  {
   "cell_type": "markdown",
   "metadata": {},
   "source": [
    "#### 3.2.2.1) Both Wines"
   ]
  },
  {
   "cell_type": "code",
   "execution_count": 102,
   "metadata": {
    "scrolled": true
   },
   "outputs": [
    {
     "name": "stderr",
     "output_type": "stream",
     "text": [
      "/usr/local/lib/python3.6/dist-packages/sklearn/model_selection/_split.py:672: UserWarning: The least populated class in y has only 3 members, which is less than n_splits=5.\n",
      "  % (min_groups, self.n_splits)), UserWarning)\n"
     ]
    },
    {
     "name": "stdout",
     "output_type": "stream",
     "text": [
      "{'n_neighbors': 50, 'p': 1, 'weights': 'distance'}\n",
      "GridSearchCV - Accuracy: 0.672308 - Time: 7.32 seconds\n",
      "Previous best Accuracy:  0.6117948717948718\n",
      "\n",
      "\n",
      "Additional statistics for prediction using best parameters:\n",
      "\n",
      "Number of mislabeled points out of a total 1950 points : 639 \n",
      "\n",
      "Confusion Matrix:\n",
      " [[  0   0   2   5   0   0   0]\n",
      " [  0   4  30  19   0   0   0]\n",
      " [  0   0 440 206   3   0   0]\n",
      " [  0   0 121 701  34   0   0]\n",
      " [  0   0   5 162 152   0   0]\n",
      " [  0   0   0  24  26  14   0]\n",
      " [  0   0   0   1   1   0   0]]\n",
      "Classsification Report: \n",
      "               precision    recall  f1-score   support\n",
      "\n",
      "           3       0.00      0.00      0.00         7\n",
      "           4       1.00      0.08      0.14        53\n",
      "           5       0.74      0.68      0.71       649\n",
      "           6       0.63      0.82      0.71       856\n",
      "           7       0.70      0.48      0.57       319\n",
      "           8       1.00      0.22      0.36        64\n",
      "           9       0.00      0.00      0.00         2\n",
      "\n",
      "    accuracy                           0.67      1950\n",
      "   macro avg       0.58      0.32      0.35      1950\n",
      "weighted avg       0.70      0.67      0.66      1950\n",
      "\n"
     ]
    },
    {
     "name": "stderr",
     "output_type": "stream",
     "text": [
      "/usr/local/lib/python3.6/dist-packages/sklearn/metrics/_classification.py:1221: UndefinedMetricWarning: Precision and F-score are ill-defined and being set to 0.0 in labels with no predicted samples. Use `zero_division` parameter to control this behavior.\n",
      "  _warn_prf(average, modifier, msg_start, len(result))\n"
     ]
    },
    {
     "data": {
      "text/plain": [
       "()"
      ]
     },
     "execution_count": 102,
     "metadata": {},
     "output_type": "execute_result"
    }
   ],
   "source": [
    "hyperparameterOptimization('KNearest Neighbors (1)', param_grid, rankingBoth, y_test, y_train, X_test, X_train)"
   ]
  },
  {
   "cell_type": "markdown",
   "metadata": {},
   "source": [
    "#### 3.2.2.2) Red Wine"
   ]
  },
  {
   "cell_type": "code",
   "execution_count": null,
   "metadata": {
    "scrolled": false
   },
   "outputs": [],
   "source": [
    "hyperparameterOptimization('KNearest Neighbors (1)', param_grid, rankingRed, yRed_test, yRed_train, XRed_test, XRed_train)"
   ]
  },
  {
   "cell_type": "markdown",
   "metadata": {},
   "source": [
    "#### 3.2.2.3) White Wine"
   ]
  },
  {
   "cell_type": "code",
   "execution_count": null,
   "metadata": {
    "scrolled": true
   },
   "outputs": [],
   "source": [
    "hyperparameterOptimization('KNearest Neighbors (1)', param_grid, rankingWhite, yWhite_test, yWhite_train, XWhite_test, XWhite_train)"
   ]
  },
  {
   "cell_type": "markdown",
   "metadata": {},
   "source": [
    "### 3.2.3) Decision Tree"
   ]
  },
  {
   "cell_type": "markdown",
   "metadata": {},
   "source": [
    "#### Parameter Grid"
   ]
  },
  {
   "cell_type": "code",
   "execution_count": null,
   "metadata": {},
   "outputs": [],
   "source": [
    "param_grid = {'criterion' : ['gini', 'entropy'],\n",
    "              'max_depth': [10, 50, 100, None],\n",
    "              'max_features' : ['auto', 'sqrt', 'log2', None],\n",
    "              'splitter' : ['best', 'random'],\n",
    "              'min_samples_leaf': [1, 2, 4]}"
   ]
  },
  {
   "cell_type": "markdown",
   "metadata": {},
   "source": [
    "#### 3.2.3.1) Both Wines"
   ]
  },
  {
   "cell_type": "code",
   "execution_count": null,
   "metadata": {},
   "outputs": [],
   "source": [
    "hyperparameterOptimization('Decision Tree', param_grid, rankingBoth, y_test, y_train, X_test, X_train)"
   ]
  },
  {
   "cell_type": "markdown",
   "metadata": {},
   "source": [
    "#### 3.2.3.2) Red Wine"
   ]
  },
  {
   "cell_type": "code",
   "execution_count": null,
   "metadata": {},
   "outputs": [],
   "source": [
    "hyperparameterOptimization('Decision Tree', param_grid, rankingRed, yRed_test, yRed_train, XRed_test, XRed_train)"
   ]
  },
  {
   "cell_type": "markdown",
   "metadata": {},
   "source": [
    "#### 3.2.3.3) Red Wine"
   ]
  },
  {
   "cell_type": "code",
   "execution_count": null,
   "metadata": {},
   "outputs": [],
   "source": [
    "hyperparameterOptimization('Decision Tree', param_grid, rankingWhite, yWhite_test, yWhite_train, XWhite_test, XWhite_train)"
   ]
  }
 ],
 "metadata": {
  "kernelspec": {
   "display_name": "Python 3",
   "language": "python",
   "name": "python3"
  },
  "language_info": {
   "codemirror_mode": {
    "name": "ipython",
    "version": 3
   },
   "file_extension": ".py",
   "mimetype": "text/x-python",
   "name": "python",
   "nbconvert_exporter": "python",
   "pygments_lexer": "ipython3",
   "version": "3.6.9"
  }
 },
 "nbformat": 4,
 "nbformat_minor": 4
}
