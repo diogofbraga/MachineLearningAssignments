{
 "cells": [
  {
   "cell_type": "markdown",
   "metadata": {},
   "source": [
    "# Wine Quality\n",
    "\n",
    "**Data Set Information:**\n",
    "TBC\n",
    "\n",
    "**Attribute Information:**\n",
    "\n",
    "**-type:** red wine or white wine, nominal qunatity; <br>\n",
    "**-fixed acidity:** grams of tataric acid per 100ml, ratio qunatity; <br>\n",
    "**-volatile acidity:** grams of acetic acid per liter of wine, ratio qunatity; <br>\n",
    "**-citric acid:** grams per liter, ratio qunatity; <br>\n",
    "**-residual sugar:** grams per liter, ratio qunatity; <br>\n",
    "**-chlorides:** grams of sodium chloride per liter, ratio qunatity; <br>\n",
    "**-free sulfur dioxide:** milligrams per liter, ratio qunatity; <br>\n",
    "**-total sulfur dioxide:** milligrams per liter, ratio qunatity; <br>\n",
    "**-density:** grams per cubic centimeter, ratio qunatity; <br>\n",
    "**-pH:** ratio qunatity; <br>\n",
    "**-sulphates:** grams of potassium sulfate per liter, ratio qunatity; <br>\n",
    "**-alcohol:** vol.%, ratio qunatity; <br>\n",
    "**-quality:** Output variable, score between 0 and 10, subjective(?), ordinal qunantity \n",
    "\n",
    "Preprocessing:\n",
    "Combine two .csv files (one for red wine, one for white wine) into one file with the new attribute \"type\".\n",
    "\n",
    "\n",
    "\n"
   ]
  },
  {
   "cell_type": "markdown",
   "metadata": {},
   "source": [
    "# General Data Preparation\n",
    "### Import Libraries"
   ]
  },
  {
   "cell_type": "code",
   "execution_count": null,
   "metadata": {},
   "outputs": [],
   "source": [
    "import pandas as pd\n",
    "import numpy as np\n",
    "import matplotlib.pyplot as plt\n",
    "import seaborn as sns\n",
    "import time\n",
    "from scipy import stats\n",
    "from sklearn import preprocessing\n",
    "from sklearn.preprocessing import StandardScaler, RobustScaler, MinMaxScaler, Normalizer\n",
    "from sklearn import tree\n",
    "from sklearn.tree import DecisionTreeClassifier\n",
    "from sklearn.metrics import classification_report, confusion_matrix, accuracy_score\n",
    "from sklearn.naive_bayes import GaussianNB\n",
    "from sklearn.neighbors import KNeighborsClassifier\n",
    "from sklearn.linear_model import LogisticRegression, SGDClassifier\n",
    "from sklearn.feature_selection import SelectPercentile, chi2, SelectFromModel\n",
    "from sklearn.model_selection import train_test_split, cross_val_score, GridSearchCV, RandomizedSearchCV\n",
    "from sklearn.svm import SVC, LinearSVC\n",
    "from sklearn.gaussian_process import GaussianProcessClassifier\n",
    "from sklearn.ensemble import ExtraTreesClassifier, RandomForestClassifier\n",
    "from sklearn.neural_network import MLPClassifier\n",
    "from sklearn import model_selection"
   ]
  },
  {
   "cell_type": "markdown",
   "metadata": {},
   "source": [
    "### Get the Data"
   ]
  },
  {
   "cell_type": "code",
   "execution_count": null,
   "metadata": {},
   "outputs": [],
   "source": [
    "data = pd.read_csv('wineQualityBothTypes.csv', delimiter = ';')"
   ]
  },
  {
   "cell_type": "code",
   "execution_count": null,
   "metadata": {},
   "outputs": [],
   "source": [
    "data"
   ]
  },
  {
   "cell_type": "markdown",
   "metadata": {},
   "source": [
    "### Basic Data Information "
   ]
  },
  {
   "cell_type": "code",
   "execution_count": null,
   "metadata": {},
   "outputs": [],
   "source": [
    "data.info()"
   ]
  },
  {
   "cell_type": "code",
   "execution_count": null,
   "metadata": {},
   "outputs": [],
   "source": [
    "data.describe()"
   ]
  },
  {
   "cell_type": "code",
   "execution_count": null,
   "metadata": {},
   "outputs": [],
   "source": [
    "data.describe(include = 'object')"
   ]
  },
  {
   "cell_type": "markdown",
   "metadata": {},
   "source": [
    "Check missing values"
   ]
  },
  {
   "cell_type": "code",
   "execution_count": null,
   "metadata": {},
   "outputs": [],
   "source": [
    "print(data.isnull().sum(axis=0))"
   ]
  },
  {
   "cell_type": "markdown",
   "metadata": {},
   "source": [
    "### Exploratory Data Analysis"
   ]
  },
  {
   "cell_type": "markdown",
   "metadata": {},
   "source": [
    "### Quality"
   ]
  },
  {
   "cell_type": "code",
   "execution_count": null,
   "metadata": {},
   "outputs": [],
   "source": [
    "#split data into red and white again\n",
    "dataRed = data.loc[data['type'] == 'red']\n",
    "dataWhite = data.loc[data['type'] == 'white']"
   ]
  },
  {
   "cell_type": "code",
   "execution_count": null,
   "metadata": {},
   "outputs": [],
   "source": [
    "#### Histograms"
   ]
  },
  {
   "cell_type": "code",
   "execution_count": null,
   "metadata": {},
   "outputs": [],
   "source": [
    "fig = plt.figure(figsize = (20,5))\n",
    "sns.set_style('darkgrid')\n",
    "bins = np.arange(data['quality'].min(), data['quality'].max()+1)\n",
    "plt.hist(data['quality'], bins=bins, align='left')\n",
    "plt.title(\"Both Types\")\n",
    "plt.xticks(bins)\n",
    "plt.xlabel('quality')"
   ]
  },
  {
   "cell_type": "code",
   "execution_count": null,
   "metadata": {},
   "outputs": [],
   "source": [
    "#### Split into white wine and red wine\n",
    "White wine:"
   ]
  },
  {
   "cell_type": "code",
   "execution_count": null,
   "metadata": {},
   "outputs": [],
   "source": [
    "fig = plt.figure(figsize = (20,5))\n",
    "sns.set_style('darkgrid')\n",
    "dataWhite = data.loc[data['type'] == 'white']\n",
    "bins = np.arange(dataWhite['quality'].min(), dataWhite['quality'].max()+1)\n",
    "plt.hist(dataWhite['quality'], bins=bins, align='left')\n",
    "plt.title(\"White Wine\")\n",
    "plt.xticks(bins)\n",
    "plt.xlabel('quality')"
   ]
  },
  {
   "cell_type": "code",
   "execution_count": null,
   "metadata": {},
   "outputs": [],
   "source": [
    "Red wine:"
   ]
  },
  {
   "cell_type": "code",
   "execution_count": null,
   "metadata": {},
   "outputs": [],
   "source": [
    "fig = plt.figure(figsize = (20,5))\n",
    "sns.set_style('darkgrid')\n",
    "bins = np.arange(dataRed['quality'].min(), dataRed['quality'].max()+1)\n",
    "plt.hist(dataRed['quality'], bins=bins, align='left')\n",
    "plt.title(\"Red Wine\")\n",
    "plt.xticks(bins)\n",
    "plt.xlabel('quality')"
   ]
  },
  {
   "cell_type": "markdown",
   "metadata": {},
   "source": [
    "### Fixed Acidity vs. Quality "
   ]
  },
  {
   "cell_type": "markdown",
   "metadata": {},
   "source": [
    "#### Both types"
   ]
  },
  {
   "cell_type": "markdown",
   "metadata": {},
   "source": [
    "plt.figure(figsize=(20, 8))\n",
    "#sns.jointplot(data['fixed acidity'], data['quality'], kind='reg')\n",
    "plt.scatter(data['fixed acidity'], data['quality'])\n",
    "plt.title(\"Both Types\")\n",
    "plt.xlabel('fixed acidity [g(tataric acid)/100ml]')\n",
    "plt.ylabel('quality')\n",
    "plt.show()"
   ]
  },
  {
   "cell_type": "markdown",
   "metadata": {},
   "source": [
    "#### Red Wine"
   ]
  },
  {
   "cell_type": "markdown",
   "metadata": {},
   "source": [
    "plt.figure(figsize=(20, 8))\n",
    "plt.scatter(dataRed['fixed acidity'], dataRed['quality'])\n",
    "plt.title(\"Red Wine\")\n",
    "plt.xlabel('fixed acidity [g(tataric acid)/100ml]')\n",
    "plt.ylabel('quality')\n",
    "plt.show()"
   ]
  },
  {
   "cell_type": "markdown",
   "metadata": {},
   "source": [
    "#### White Wine"
   ]
  },
  {
   "cell_type": "markdown",
   "metadata": {},
   "source": [
    "plt.figure(figsize=(20, 8))\n",
    "plt.scatter(dataWhite['fixed acidity'], dataWhite['quality'])\n",
    "plt.title(\"White Wine\")\n",
    "plt.xlabel('fixed acidity [g(tataric acid)/100ml]')\n",
    "plt.ylabel('quality')\n",
    "plt.show()"
   ]
  },
  {
   "cell_type": "markdown",
   "metadata": {},
   "source": [
    "### Volatile Acidity vs. Quality "
   ]
  },
  {
   "cell_type": "markdown",
   "metadata": {},
   "source": [
    "#### Both types"
   ]
  },
  {
   "cell_type": "markdown",
   "metadata": {},
   "source": [
    "plt.figure(figsize=(20, 8))\n",
    "#sns.jointplot(data['fixed acidity'], data['quality'], kind='reg')\n",
    "plt.scatter(data['volatile acidity'], data['quality'])\n",
    "plt.title(\"Both Types\")\n",
    "plt.xlabel('volatile acidity [g(acetic acid)/100ml]')\n",
    "plt.ylabel('quality')\n",
    "plt.show()"
   ]
  },
  {
   "cell_type": "markdown",
   "metadata": {},
   "source": [
    "#### Red Wine"
   ]
  },
  {
   "cell_type": "markdown",
   "metadata": {},
   "source": [
    "plt.figure(figsize=(20, 8))\n",
    "plt.scatter(dataRed['volatile acidity'], dataRed['quality'])\n",
    "plt.title(\"Red Wine\")\n",
    "plt.xlabel('volatile acidity [g(acetic acid)/100ml]')\n",
    "plt.ylabel('quality')\n",
    "plt.show()"
   ]
  },
  {
   "cell_type": "markdown",
   "metadata": {},
   "source": [
    "#### White Wine"
   ]
  },
  {
   "cell_type": "markdown",
   "metadata": {},
   "source": [
    "plt.figure(figsize=(20, 8))\n",
    "plt.scatter(dataWhite['volatile acidity'], dataWhite['quality'])\n",
    "plt.title(\"White Wine\")\n",
    "plt.xlabel('volatile acidity [g(acetic acid)/100ml]')\n",
    "plt.ylabel('quality')\n",
    "plt.show()"
   ]
  },
  {
   "cell_type": "markdown",
   "metadata": {},
   "source": [
    "### Citric Acid vs. Quality "
   ]
  },
  {
   "cell_type": "markdown",
   "metadata": {},
   "source": [
    "#### Both types"
   ]
  },
  {
   "cell_type": "markdown",
   "metadata": {},
   "source": [
    "plt.figure(figsize=(20, 8))\n",
    "#sns.jointplot(data['fixed acidity'], data['quality'], kind='reg')\n",
    "plt.scatter(data['citric acid'], data['quality'])\n",
    "plt.title(\"Both Types\")\n",
    "plt.xlabel('citric acid [g/l]')\n",
    "plt.ylabel('quality')\n",
    "plt.show()"
   ]
  },
  {
   "cell_type": "markdown",
   "metadata": {},
   "source": [
    "#### Red Wine"
   ]
  },
  {
   "cell_type": "markdown",
   "metadata": {},
   "source": [
    "plt.figure(figsize=(20, 8))\n",
    "plt.scatter(dataRed['citric acid'], dataRed['quality'])\n",
    "plt.title(\"Red Wine\")\n",
    "plt.xlabel('citric acid [g/l]')\n",
    "plt.ylabel('quality')\n",
    "plt.show()"
   ]
  },
  {
   "cell_type": "markdown",
   "metadata": {},
   "source": [
    "#### White Wine"
   ]
  },
  {
   "cell_type": "markdown",
   "metadata": {},
   "source": [
    "plt.figure(figsize=(20, 8))\n",
    "plt.scatter(dataWhite['citric acid'], dataWhite['quality'])\n",
    "plt.title(\"White Wine\")\n",
    "plt.xlabel('citric acid [g/l]')\n",
    "plt.ylabel('quality')\n",
    "plt.show()"
   ]
  },
  {
   "cell_type": "markdown",
   "metadata": {},
   "source": [
    "### Residual Sugar vs. Quality "
   ]
  },
  {
   "cell_type": "markdown",
   "metadata": {},
   "source": [
    "#### Both types"
   ]
  },
  {
   "cell_type": "markdown",
   "metadata": {},
   "source": [
    "plt.figure(figsize=(20, 8))\n",
    "#sns.jointplot(data['fixed acidity'], data['quality'], kind='reg')\n",
    "plt.scatter(data['residual sugar'], data['quality'])\n",
    "plt.title(\"Both Types\")\n",
    "plt.xlabel('residual sugar [g/l]')\n",
    "plt.ylabel('quality')\n",
    "plt.show()"
   ]
  },
  {
   "cell_type": "markdown",
   "metadata": {},
   "source": [
    "#### Red Wine"
   ]
  },
  {
   "cell_type": "markdown",
   "metadata": {},
   "source": [
    "plt.figure(figsize=(20, 8))\n",
    "plt.scatter(dataRed['residual sugar'], dataRed['quality'])\n",
    "plt.title(\"Red Wine\")\n",
    "plt.xlabel('residual sugar [g/l]')\n",
    "plt.ylabel('quality')\n",
    "plt.show()"
   ]
  },
  {
   "cell_type": "markdown",
   "metadata": {},
   "source": [
    "#### White Wine"
   ]
  },
  {
   "cell_type": "markdown",
   "metadata": {},
   "source": [
    "plt.figure(figsize=(20, 8))\n",
    "plt.scatter(dataWhite['residual sugar'], dataWhite['quality'])\n",
    "plt.title(\"White Wine\")\n",
    "plt.xlabel('residual sugar [g/l]')\n",
    "plt.ylabel('quality')\n",
    "plt.show()"
   ]
  },
  {
   "cell_type": "markdown",
   "metadata": {},
   "source": [
    "### Chlorides vs. Quality "
   ]
  },
  {
   "cell_type": "markdown",
   "metadata": {},
   "source": [
    "#### Both types"
   ]
  },
  {
   "cell_type": "markdown",
   "metadata": {},
   "source": [
    "plt.figure(figsize=(20, 8))\n",
    "#sns.jointplot(data['fixed acidity'], data['quality'], kind='reg')\n",
    "plt.scatter(data['chlorides'], data['quality'])\n",
    "plt.title(\"Both Types\")\n",
    "plt.xlabel('chlorides [g(sodium chloride)/l]')\n",
    "plt.ylabel('quality')\n",
    "plt.show()"
   ]
  },
  {
   "cell_type": "markdown",
   "metadata": {},
   "source": [
    "#### Red Wine"
   ]
  },
  {
   "cell_type": "markdown",
   "metadata": {},
   "source": [
    "plt.figure(figsize=(20, 8))\n",
    "plt.scatter(dataRed['chlorides'], dataRed['quality'])\n",
    "plt.title(\"Red Wine\")\n",
    "plt.xlabel('chlorides [g(sodium chloride)/l]')\n",
    "plt.ylabel('quality')\n",
    "plt.show()"
   ]
  },
  {
   "cell_type": "markdown",
   "metadata": {},
   "source": [
    "#### White Wine"
   ]
  },
  {
   "cell_type": "markdown",
   "metadata": {},
   "source": [
    "plt.figure(figsize=(20, 8))\n",
    "plt.scatter(dataWhite['chlorides'], dataWhite['quality'])\n",
    "plt.title(\"White Wine\")\n",
    "plt.xlabel('chlorides [g(sodium chloride)/l]')\n",
    "plt.ylabel('quality')\n",
    "plt.show()"
   ]
  },
  {
   "cell_type": "markdown",
   "metadata": {},
   "source": [
    "### Free Sulfur Dioxide vs. Quality "
   ]
  },
  {
   "cell_type": "markdown",
   "metadata": {},
   "source": [
    "#### Both types"
   ]
  },
  {
   "cell_type": "markdown",
   "metadata": {},
   "source": [
    "plt.figure(figsize=(20, 8))\n",
    "#sns.jointplot(data['fixed acidity'], data['quality'], kind='reg')\n",
    "plt.scatter(data['free sulfur dioxide'], data['quality'])\n",
    "plt.title(\"Both Types\")\n",
    "plt.xlabel('free sulfur dioxide [mg/l]')\n",
    "plt.ylabel('quality')\n",
    "plt.show()"
   ]
  },
  {
   "cell_type": "markdown",
   "metadata": {},
   "source": [
    "#### Red Wine"
   ]
  },
  {
   "cell_type": "markdown",
   "metadata": {},
   "source": [
    "plt.figure(figsize=(20, 8))\n",
    "plt.scatter(dataRed['free sulfur dioxide'], dataRed['quality'])\n",
    "plt.title(\"Red Wine\")\n",
    "plt.xlabel('free sulfur dioxide [mg/l]')\n",
    "plt.ylabel('quality')\n",
    "plt.show()"
   ]
  },
  {
   "cell_type": "markdown",
   "metadata": {},
   "source": [
    "#### White Wine"
   ]
  },
  {
   "cell_type": "markdown",
   "metadata": {},
   "source": [
    "plt.figure(figsize=(20, 8))\n",
    "plt.scatter(dataWhite['free sulfur dioxide'], dataWhite['quality'])\n",
    "plt.title(\"White Wine\")\n",
    "plt.xlabel('free sulfur dioxide [mg/l]')\n",
    "plt.ylabel('quality')\n",
    "plt.show()"
   ]
  },
  {
   "cell_type": "markdown",
   "metadata": {},
   "source": [
    "### Total Sulfur Dioxide vs. Quality "
   ]
  },
  {
   "cell_type": "markdown",
   "metadata": {},
   "source": [
    "#### Both types"
   ]
  },
  {
   "cell_type": "markdown",
   "metadata": {},
   "source": [
    "plt.figure(figsize=(20, 8))\n",
    "#sns.jointplot(data['fixed acidity'], data['quality'], kind='reg')\n",
    "plt.scatter(data['total sulfur dioxide'], data['quality'])\n",
    "plt.title(\"Both Types\")\n",
    "plt.xlabel('total sulfur dioxide [mg/l]')\n",
    "plt.ylabel('quality')\n",
    "plt.show()"
   ]
  },
  {
   "cell_type": "markdown",
   "metadata": {},
   "source": [
    "#### Red Wine"
   ]
  },
  {
   "cell_type": "markdown",
   "metadata": {},
   "source": [
    "plt.figure(figsize=(20, 8))\n",
    "plt.scatter(dataRed['total sulfur dioxide'], dataRed['quality'])\n",
    "plt.title(\"Red Wine\")\n",
    "plt.xlabel('total sulfur dioxide [mg/l]')\n",
    "plt.ylabel('quality')\n",
    "plt.show()"
   ]
  },
  {
   "cell_type": "markdown",
   "metadata": {},
   "source": [
    "#### White Wine"
   ]
  },
  {
   "cell_type": "markdown",
   "metadata": {},
   "source": [
    "plt.figure(figsize=(20, 8))\n",
    "plt.scatter(dataWhite['total sulfur dioxide'], dataWhite['quality'])\n",
    "plt.title(\"White Wine\")\n",
    "plt.xlabel('total sulfur dioxide [mg/l]')\n",
    "plt.ylabel('quality')\n",
    "plt.show()"
   ]
  },
  {
   "cell_type": "markdown",
   "metadata": {},
   "source": [
    "### Density vs. Quality "
   ]
  },
  {
   "cell_type": "markdown",
   "metadata": {},
   "source": [
    "#### Both types"
   ]
  },
  {
   "cell_type": "markdown",
   "metadata": {},
   "source": [
    "plt.figure(figsize=(20, 8))\n",
    "#sns.jointplot(data['fixed acidity'], data['quality'], kind='reg')\n",
    "plt.scatter(data['density'], data['quality'])\n",
    "plt.title(\"Both Types\")\n",
    "plt.xlabel('density [g/cm³]')\n",
    "plt.ylabel('quality')\n",
    "plt.show()"
   ]
  },
  {
   "cell_type": "markdown",
   "metadata": {},
   "source": [
    "#### Red Wine"
   ]
  },
  {
   "cell_type": "markdown",
   "metadata": {},
   "source": [
    "plt.figure(figsize=(20, 8))\n",
    "plt.scatter(dataRed['density'], dataRed['quality'])\n",
    "plt.title(\"Red Wine\")\n",
    "plt.xlabel('density [g/cm³]')\n",
    "plt.ylabel('quality')\n",
    "plt.show()"
   ]
  },
  {
   "cell_type": "markdown",
   "metadata": {},
   "source": [
    "#### White Wine"
   ]
  },
  {
   "cell_type": "markdown",
   "metadata": {},
   "source": [
    "plt.figure(figsize=(20, 8))\n",
    "plt.scatter(dataWhite['density'], dataWhite['quality'])\n",
    "plt.title(\"White Wine\")\n",
    "plt.xlabel('density [g/cm³]')\n",
    "plt.ylabel('quality')\n",
    "plt.show()"
   ]
  },
  {
   "cell_type": "markdown",
   "metadata": {},
   "source": [
    "### pH value vs. Quality "
   ]
  },
  {
   "cell_type": "markdown",
   "metadata": {},
   "source": [
    "#### Both types"
   ]
  },
  {
   "cell_type": "markdown",
   "metadata": {},
   "source": [
    "plt.figure(figsize=(20, 8))\n",
    "#sns.jointplot(data['fixed acidity'], data['quality'], kind='reg')\n",
    "plt.scatter(data['pH'], data['quality'])\n",
    "plt.title(\"Both Types\")\n",
    "plt.xlabel('pH')\n",
    "plt.ylabel('quality')\n",
    "plt.show()"
   ]
  },
  {
   "cell_type": "markdown",
   "metadata": {},
   "source": [
    "#### Red Wine"
   ]
  },
  {
   "cell_type": "markdown",
   "metadata": {},
   "source": [
    "plt.figure(figsize=(20, 8))\n",
    "plt.scatter(dataRed['pH'], dataRed['quality'])\n",
    "plt.title(\"Red Wine\")\n",
    "plt.xlabel('pH')\n",
    "plt.ylabel('quality')\n",
    "plt.show()"
   ]
  },
  {
   "cell_type": "markdown",
   "metadata": {},
   "source": [
    "#### White Wine"
   ]
  },
  {
   "cell_type": "markdown",
   "metadata": {},
   "source": [
    "plt.figure(figsize=(20, 8))\n",
    "plt.scatter(dataWhite['pH'], dataWhite['quality'])\n",
    "plt.title(\"White Wine\")\n",
    "plt.xlabel('pH')\n",
    "plt.ylabel('quality')\n",
    "plt.show()"
   ]
  },
  {
   "cell_type": "markdown",
   "metadata": {},
   "source": [
    "### Sulphates vs. Quality "
   ]
  },
  {
   "cell_type": "markdown",
   "metadata": {},
   "source": [
    "#### Both types"
   ]
  },
  {
   "cell_type": "markdown",
   "metadata": {},
   "source": [
    "plt.figure(figsize=(20, 8))\n",
    "#sns.jointplot(data['fixed acidity'], data['quality'], kind='reg')\n",
    "plt.scatter(data['sulphates'], data['quality'])\n",
    "plt.title(\"Both Types\")\n",
    "plt.xlabel('sulphates [g(potassium sulfate)/l]')\n",
    "plt.ylabel('quality')\n",
    "plt.show()"
   ]
  },
  {
   "cell_type": "markdown",
   "metadata": {},
   "source": [
    "#### Red Wine"
   ]
  },
  {
   "cell_type": "markdown",
   "metadata": {},
   "source": [
    "plt.figure(figsize=(20, 8))\n",
    "plt.scatter(dataRed['sulphates'], dataRed['quality'])\n",
    "plt.title(\"Red Wine\")\n",
    "plt.xlabel('sulphates [g(potassium sulfate)/l]')\n",
    "plt.ylabel('quality')\n",
    "plt.show()"
   ]
  },
  {
   "cell_type": "markdown",
   "metadata": {},
   "source": [
    "#### White Wine"
   ]
  },
  {
   "cell_type": "markdown",
   "metadata": {},
   "source": [
    "plt.figure(figsize=(20, 8))\n",
    "plt.scatter(dataWhite['sulphates'], dataWhite['quality'])\n",
    "plt.title(\"White Wine\")\n",
    "plt.xlabel('sulphates [g(potassium sulfate)/l]')\n",
    "plt.ylabel('quality')\n",
    "plt.show()"
   ]
  },
  {
   "cell_type": "markdown",
   "metadata": {},
   "source": [
    "### Alcohol Content vs. Quality "
   ]
  },
  {
   "cell_type": "markdown",
   "metadata": {},
   "source": [
    "#### Both types"
   ]
  },
  {
   "cell_type": "markdown",
   "metadata": {},
   "source": [
    "plt.figure(figsize=(20, 8))\n",
    "#sns.jointplot(data['fixed acidity'], data['quality'], kind='reg')\n",
    "plt.scatter(data['alcohol'], data['quality'])\n",
    "plt.title(\"Both Types\")\n",
    "plt.xlabel('alcohol [vol%]')\n",
    "plt.ylabel('quality')\n",
    "plt.show()"
   ]
  },
  {
   "cell_type": "markdown",
   "metadata": {},
   "source": [
    "#### Red Wine"
   ]
  },
  {
   "cell_type": "markdown",
   "metadata": {},
   "source": [
    "plt.figure(figsize=(20, 8))\n",
    "plt.scatter(dataRed['alcohol'], dataRed['quality'])\n",
    "plt.title(\"Red Wine\")\n",
    "plt.xlabel('alcohol [vol%]')\n",
    "plt.ylabel('quality')\n",
    "plt.show()"
   ]
  },
  {
   "cell_type": "markdown",
   "metadata": {},
   "source": [
    "#### White Wine"
   ]
  },
  {
   "cell_type": "markdown",
   "metadata": {},
   "source": [
    "plt.figure(figsize=(20, 8))\n",
    "plt.scatter(dataWhite['alcohol'], dataWhite['quality'])\n",
    "plt.title(\"White Wine\")\n",
    "plt.xlabel('alcohol [vol%]')\n",
    "plt.ylabel('quality')\n",
    "plt.show()"
   ]
  },
  {
   "cell_type": "markdown",
   "metadata": {},
   "source": [
    "# 2) Preprocessing"
   ]
  },
  {
   "cell_type": "code",
   "execution_count": null,
   "metadata": {},
   "outputs": [],
   "source": [
    "#first convert the strings 'white' and 'red' to 0 and 1 respectively\n",
    "mapping = {'white': 0, 'red': 1}\n",
    "data = data.replace({'type': mapping})\n",
    "\n",
    "#Then split data into red and white again with that mapping\n",
    "dataWhite = dataWhite.replace({'type': mapping})\n",
    "dataRed = dataRed.replace({'type': mapping})\n",
    "\n",
    "#split the data in attributes and class\n",
    "X = data.drop('quality', axis=1)\n",
    "y = data['quality']\n",
    "\n",
    "#split the data in attributes and class\n",
    "XWhite = dataWhite.drop('quality', axis=1)\n",
    "yWhite = dataWhite['quality']\n",
    "\n",
    "XRed = dataRed.drop('quality', axis=1)\n",
    "yRed = dataRed['quality']\n"
   ]
  },
  {
   "cell_type": "markdown",
   "metadata": {},
   "source": [
    "##  2.1) Feature Selection \n",
    "\n",
    "**Choose one of the methods:**\n",
    "1. SelectPercentile (chi2)\n",
    "2. SelectFromModel (LinearSVC)\n",
    "3. SelectFromModel (LogisticRegression)\n",
    "3. SelectFromModel (ExtraTreesClassifier)\n",
    "\n",
    "## 2.2) Data Pre-processing\n",
    "\n",
    "**Choose one of the methods:**\n",
    "1. Standardization (StandardScaler)\n",
    "2. Standardization (RobustScaler)\n",
    "3. MinMaxScaler\n",
    "4. Normalization\n",
    "\n",
    "## 2.3)Outliers Detection using mathematical function Z-Score\n",
    "\n",
    "\n",
    "### All three features included in the following function:"
   ]
  },
  {
   "cell_type": "code",
   "execution_count": null,
   "metadata": {},
   "outputs": [],
   "source": [
    "def featureSelection(XCurr, yCurr, featureselection_method, preprocessing_method):\n",
    "    if featureselection_method == 1:\n",
    "        selection = SelectPercentile(chi2, percentile=5)\n",
    "    elif featureselection_method == 2:\n",
    "        clf = LinearSVC()\n",
    "        #clf = LinearSVC(C=0.1, penalty=\"l1\", dual=False).fit(X, y)\n",
    "        selection = SelectFromModel(clf, prefit=False)\n",
    "    elif featureselection_method == 3:\n",
    "        clf = LogisticRegression()\n",
    "        #clf = LogisticRegression(C=0.2, penalty=\"l2\", dual=False, max_iter=200).fit(X, y)\n",
    "        selection = SelectFromModel(clf, prefit=False)\n",
    "    elif featureselection_method == 4:\n",
    "        clf = ExtraTreesClassifier(n_estimators=50).fit(XCurr, yCurr)\n",
    "        selection = SelectFromModel(clf, prefit=False)      \n",
    "\n",
    "    clf.feature_importances_ \n",
    "    X_transformed = selection.fit_transform(XCurr, yCurr)\n",
    "    columns = np.asarray(XCurr.columns.values)\n",
    "    support = np.asarray(selection.get_support())\n",
    "    columns_with_support = columns[support]\n",
    "    print(\"X_transformed.shape\",X_transformed.shape)\n",
    "    print(\"selected attributes: \", columns_with_support)\n",
    "    \n",
    "    #Data Pre-processing:\n",
    "    if preprocessing_method == 1:\n",
    "        scaler = StandardScaler()\n",
    "        scaler = scaler.fit(X_transformed)\n",
    "        X_scaled = scaler.transform(X_transformed)\n",
    "    elif preprocessing_method == 2:\n",
    "        scaler = RobustScaler()\n",
    "        scaler = scaler.fit(X_transformed)\n",
    "        X_scaled = scaler.transform(X_transformed)\n",
    "    elif preprocessing_method == 3:\n",
    "        scaler = preprocessing.MinMaxScaler()\n",
    "        scaler = scaler.fit(X_transformed)\n",
    "        X_scaled = scaler.transform(X_transformed)\n",
    "    elif preprocessing_method == 4:\n",
    "        scaler = preprocessing.Normalizer()\n",
    "        scaler = scaler.fit(X_transformed)\n",
    "        X_scaled = scaler.transform(X_transformed)\n",
    "    print(\"X_scaled = \",X_scaled)\n",
    "    \n",
    "    \n",
    "    #Outlier Detection:\n",
    "    z = np.abs(stats.zscore(X_scaled))\n",
    "    threshold = 20\n",
    "    outliers_rows = np.where(z > threshold)\n",
    "    print(\"\\n z > threshold = \", np.where(z > threshold))\n",
    "    # The first array contains the list of row numbers and second array respective column numbers\n",
    "    print(\"\\n number of outliers = \",len(set(outliers_rows[0])))\n",
    "    \n",
    "    #Remove Ouliers\n",
    "    #X_prepared = X_scaled[(np.abs(stats.zscore(X_scaled)) < threshold).all(axis=1)]\n",
    "    #X_prepared.shape\n",
    "    #y = y.to_numpy()\n",
    "    \n",
    "    #X_train, X_test, y_train, y_test = train_test_split(X_scaled, yCurr, test_size=0.30)\n",
    "    #return(X_train, X_test, y_train, y_test)\n",
    "    return(X_scaled, yCurr)"
   ]
  },
  {
   "cell_type": "code",
   "execution_count": null,
   "metadata": {},
   "outputs": [],
   "source": [
    "featureselection_method = 4\n",
    "preprocessing_method = 1"
   ]
  },
  {
   "cell_type": "code",
   "execution_count": null,
   "metadata": {},
   "outputs": [],
   "source": [
    "print('\\n-------------------both types ------------------\\n')\n",
    "X, y = featureSelection(X, y, featureselection_method, preprocessing_method)\n",
    "\n",
    "print('\\n--------------------red wine -------------------\\n')\n",
    "XRed, yRed = featureSelection(XRed, yRed, featureselection_method, preprocessing_method)\n",
    "\n",
    "print('\\n-------------------white wine------------------\\n')\n",
    "XWhite, yWhite = featureSelection(XWhite, yWhite, featureselection_method, preprocessing_method)"
   ]
  },
  {
   "cell_type": "code",
   "execution_count": null,
   "metadata": {},
   "outputs": [],
   "source": [
    "NN = 1\n",
    "\n",
    "d = {}\n",
    "\n",
    "d[\"Logistic Regression\"] = LogisticRegression(max_iter=200)\n",
    "d[\"Gaussian Naive Bayes\"] = GaussianNB()\n",
    "\n",
    "d[\"KNearest Neighbors (\"+ str(NN) + \")\"] = KNeighborsClassifier(n_neighbors=NN)\n",
    "\n",
    "d[\"SVM rbf\"] = SVC()\n",
    "d[\"SGD Classifier\"] = SGDClassifier()\n",
    "\n",
    "d[\"Decision Tree\"] = DecisionTreeClassifier()\n",
    "\n",
    "d[\"Random Forest\"] = RandomForestClassifier()\n",
    "\n",
    "d[\"Multi-layer Perceptron Classifier\"] = MLPClassifier(max_iter=1000)"
   ]
  },
  {
   "cell_type": "markdown",
   "metadata": {},
   "source": [
    "### General Remark:\n",
    "Depending on the split of test and training set sometimes the ranking of the accuracy of the 8 claassifiers changes a bit. therefore I decided to run the classifiers with standard setting N times with different test/training set splits. \n",
    "Then from the average accuracy I chose the top three. \n",
    "For those three i then do a hyperparameter optimization.\n",
    "This way it is easier to pick three classifiers for the report."
   ]
  },
  {
   "cell_type": "markdown",
   "metadata": {},
   "source": [
    "## 3.1) Comparison of Classifiers with standard settings"
   ]
  },
  {
   "cell_type": "code",
   "execution_count": null,
   "metadata": {},
   "outputs": [],
   "source": [
    "def compareClassifiers(X, y, d):\n",
    "    N = 15\n",
    "    \n",
    "    scoreList = [0]*len(d.items())\n",
    "    highScoreList = [0]*len(d.items())\n",
    "    nameList = ['a']*len(d.items())\n",
    "    timeList = [0]*len(d.items())\n",
    "    \n",
    "    for i in range(0,N):\n",
    "        X_train, X_test, y_train, y_test = train_test_split(X, y, test_size=0.30)\n",
    "        \n",
    "        counter = 0\n",
    "        for name, clf in d.items():\n",
    "            start = time.time()\n",
    "            clf.fit(X_train, y_train)\n",
    "            y_pred = clf.predict(X_test)\n",
    "            end = time.time()\n",
    "            timeList[counter] = timeList[counter] + (end - start)\n",
    "            score = accuracy_score(y_test, y_pred)\n",
    "            scoreList[counter] = scoreList[counter] + score\n",
    "            if score > highScoreList[counter]:\n",
    "                highScoreList[counter] = score\n",
    "            nameList[counter] = name #overwrites n times but whatever \n",
    "            #print(\"i = \", i, \" counter = \", counter, \"score = \", score, \"name = \", name, \"time = \", end - start)\n",
    "            counter += 1\n",
    " \n",
    "    scoreList[:] = [x / N for x in scoreList]\n",
    "    timeList[:] = [x / N for x in timeList] \n",
    "    \n",
    "    ranking = sorted(zip(scoreList,nameList,highScoreList,timeList))[::-1]\n",
    "    print(ranking)\n",
    "    print(\"\\nClassifiers from best to worst:\")\n",
    "    for i in range(0, len(ranking)):\n",
    "        print(i+1, ') {:34} averageScore: {:.5} bestScore: {:.5} averageTime: {:.5} s'.format(ranking[i][1], str(ranking[i][0]), str(ranking[i][2]), str(ranking[i][3])))\n",
    "        #print(ranking[i][1], ranking[i][0],ranking[i][2], ranking[i][3])\n",
    "    return(y_test, y_train, X_test, X_train, ranking)"
   ]
  },
  {
   "cell_type": "markdown",
   "metadata": {},
   "source": [
    "#old version:\n",
    "y_test, y_train, X_test, X_train = train_test_split(X, y, test_size=0.20)\n",
    "scoreList = []\n",
    "nameList = []\n",
    "counter = 0\n",
    "\n",
    "for name, clf in d.items():\n",
    "    start = time.time()\n",
    "    clf.fit(X_train, y_train)\n",
    "    y_pred = clf.predict(X_test)\n",
    "    score = accuracy_score(y_test, y_pred)\n",
    "    scoreList.append(accuracy_score(y_test, y_pred))\n",
    "    nameList.append(name)\n",
    "\n",
    "    end = time.time()\n",
    "    print(\"\\n--------------\",name,\"---------------\\n\")\n",
    "    print(\"- Accuracy: %f\" % score, \"- Time: %0.2f\" % (end - start), \"seconds\")\n",
    "    print(\"\\n Number of mislabeled points out of a total %d points : %d \\n\\n\"% (X_test.shape[0], (y_test != y_pred).sum()))\n",
    "    print(confusion_matrix(y_test, y_pred))\n",
    "    print(classification_report(y_test, y_pred))\n",
    "\n",
    "\n",
    "\n",
    "print(\"###############\")\n",
    "ranking = sorted(zip(scoreList,nameList))[::-1]\n",
    "#print(sorted(zip(scoreList,nameList)))\n",
    "print(\"\\nClassifiers from best to worst:\")\n",
    "for i in range(0, len(ranking)):\n",
    "    print(i+1, ') {0:35} score: {1}'.format(ranking[i][1], ranking[i][0]))\n",
    "\n",
    "#return(y_test, y_train, X_test, X_train, ranking)"
   ]
  },
  {
   "cell_type": "markdown",
   "metadata": {},
   "source": [
    "### 3.1.1) Both Wines"
   ]
  },
  {
   "cell_type": "code",
   "execution_count": null,
   "metadata": {},
   "outputs": [],
   "source": [
    "y_test, y_train, X_test, X_train, rankingBoth = compareClassifiers(X, y, d)"
   ]
  },
  {
   "cell_type": "markdown",
   "metadata": {},
   "source": [
    "### 3.1.2) Red Wine only"
   ]
  },
  {
   "cell_type": "code",
   "execution_count": null,
   "metadata": {},
   "outputs": [],
   "source": [
    "yRed_test, yRed_train, XRed_test, XRed_train, rankingRed = compareClassifiers(XRed, yRed, d)"
   ]
  },
  {
   "cell_type": "markdown",
   "metadata": {},
   "source": [
    "### 3.1.3) White Wine only"
   ]
  },
  {
   "cell_type": "code",
   "execution_count": null,
   "metadata": {},
   "outputs": [],
   "source": [
    "yWhite_test, yWhite_train, XWhite_test, XWhite_train, rankingWhite = compareClassifiers(XWhite, yWhite, d)"
   ]
  },
  {
   "cell_type": "markdown",
   "metadata": {},
   "source": [
    "## 3.2) Hyperparameter Optimization"
   ]
  },
  {
   "cell_type": "code",
   "execution_count": null,
   "metadata": {},
   "outputs": [],
   "source": [
    "def hyperparameterOptimization(classifierName, param_grid, ranking, y_test, y_train, X_test, X_train):\n",
    "    names = [j for i,j,k,l in ranking]\n",
    "    index = names.index(classifierName)\n",
    "    #print(ranking[index][1])\n",
    "\n",
    "    start = time.time()\n",
    "    clf_gridsearch = GridSearchCV(d.get(ranking[index][1]), param_grid, verbose=0)\n",
    "    clf_gridsearch.fit(X_train, y_train)\n",
    "    print(clf_gridsearch.best_params_)\n",
    "    predictions = clf_gridsearch.predict(X_test)\n",
    "    #print(\"test =\",predictions)\n",
    "    score_gridsearch = accuracy_score(y_test, predictions)\n",
    "    end = time.time()\n",
    "    print(\"GridSearchCV - Accuracy: %f\" % score_gridsearch, \"- Time: %0.2f\" % (end - start), \"seconds\")\n",
    "    print(\"Previous best Accuracy: \", ranking[index][2])\n",
    "   \n",
    "    print(\"\\n\\nAdditional statistics for prediction using best parameters:\\n\")\n",
    "    print(\"Number of mislabeled points out of a total %d points : %d \\n\"% (X_test.shape[0], (y_test != predictions).sum()))\n",
    "    print(\"Confusion Matrix:\\n\",confusion_matrix(y_test, predictions))\n",
    "    print(\"Classsification Report: \\n\",classification_report(y_test, predictions))\n",
    "    \n",
    "    return()"
   ]
  },
  {
   "cell_type": "code",
   "execution_count": null,
   "metadata": {},
   "outputs": [],
   "source": [
    "def defaultPrediction(clf, y_test, y_train, X_test, X_train):\n",
    "    clf.fit(X_train, y_train)\n",
    "    y_pred = clf.predict(X_test)\n",
    "    print(\"accuracy with standard parameters:\",accuracy_score(y_test, y_pred))    \n",
    "    return()"
   ]
  },
  {
   "cell_type": "markdown",
   "metadata": {},
   "source": [
    "### 3.2.1) RandomForest"
   ]
  },
  {
   "cell_type": "markdown",
   "metadata": {},
   "source": [
    "#### Parameter Grid"
   ]
  },
  {
   "cell_type": "code",
   "execution_count": null,
   "metadata": {},
   "outputs": [],
   "source": [
    "param_grid = {'criterion' : ['gini', 'entropy'],\n",
    "              'max_depth': [10, 50, None],\n",
    "              'max_features': ['auto', 'sqrt'],\n",
    "              'min_samples_leaf': [1, 2]}\n",
    "#takes very long to calculate, if param grid is too large"
   ]
  },
  {
   "cell_type": "markdown",
   "metadata": {},
   "source": [
    "#### 3.2.1.1) Both Wines"
   ]
  },
  {
   "cell_type": "code",
   "execution_count": null,
   "metadata": {},
   "outputs": [],
   "source": [
    "y_test, y_train, X_test, X_train, rankingBoth = compareClassifiers(X, y, d)\n",
    "defaultPrediction(RandomForestClassifier(), y_test, y_train, X_test, X_train)\n",
    "hyperparameterOptimization('Random Forest', param_grid, rankingBoth, y_test, y_train, X_test, X_train)"
   ]
  },
  {
   "cell_type": "markdown",
   "metadata": {},
   "source": [
    "#### 3.2.1.2) Red Wine"
   ]
  },
  {
   "cell_type": "code",
   "execution_count": null,
   "metadata": {},
   "outputs": [],
   "source": [
    "yRed_test, yRed_train, XRed_test, XRed_train, rankingRed = compareClassifiers(XRed, yRed, d)\n",
    "defaultPrediction(RandomForestClassifier(), yRed_test, yRed_train, XRed_test, XRed_train)\n",
    "hyperparameterOptimization('Random Forest', param_grid, rankingRed, yRed_test, yRed_train, XRed_test, XRed_train)"
   ]
  },
  {
   "cell_type": "markdown",
   "metadata": {},
   "source": [
    "#### 3.2.1.3) White Wine"
   ]
  },
  {
   "cell_type": "code",
   "execution_count": null,
   "metadata": {},
   "outputs": [],
   "source": [
    "yWhite_test, yWhite_train, XWhite_test, XWhite_train, rankingWhite = compareClassifiers(XWhite, yWhite, d)\n",
    "defaultPrediction(RandomForestClassifier(), yWhite_test, yWhite_train, XWhite_test, XWhite_train)\n",
    "hyperparameterOptimization('Random Forest', param_grid, rankingWhite, yWhite_test, yWhite_train, XWhite_test, XWhite_train)"
   ]
  },
  {
   "cell_type": "markdown",
   "metadata": {},
   "source": [
    "### 3.2.2) KNearest Neighbors"
   ]
  },
  {
   "cell_type": "markdown",
   "metadata": {},
   "source": [
    "#### Parameter Grid"
   ]
  },
  {
   "cell_type": "code",
   "execution_count": null,
   "metadata": {},
   "outputs": [],
   "source": [
    "param_grid = param_grid = {'n_neighbors': [1,2,5,10,25,50,75,100,125],\n",
    "              'weights': ['uniform', 'distance'],\n",
    "              'p': [1, 2]}"
   ]
  },
  {
   "cell_type": "markdown",
   "metadata": {},
   "source": [
    "#### 3.2.2.1) Both Wines"
   ]
  },
  {
   "cell_type": "code",
   "execution_count": null,
   "metadata": {},
   "outputs": [],
   "source": [
    "defaultPrediction(KNeighborsClassifier(n_neighbors=NN), y_test, y_train, X_test, X_train)\n",
    "hyperparameterOptimization('KNearest Neighbors (1)', param_grid, rankingBoth, y_test, y_train, X_test, X_train)"
   ]
  },
  {
   "cell_type": "markdown",
   "metadata": {},
   "source": [
    "#### 3.2.2.2) Red Wine"
   ]
  },
  {
   "cell_type": "code",
   "execution_count": null,
   "metadata": {
    "scrolled": false
   },
   "outputs": [],
   "source": [
    "defaultPrediction(KNeighborsClassifier(n_neighbors=NN), yRed_test, yRed_train, XRed_test, XRed_train)\n",
    "hyperparameterOptimization('KNearest Neighbors (1)', param_grid, rankingRed, yRed_test, yRed_train, XRed_test, XRed_train)"
   ]
  },
  {
   "cell_type": "markdown",
   "metadata": {},
   "source": [
    "#### 3.2.2.3) White Wine"
   ]
  },
  {
   "cell_type": "code",
   "execution_count": null,
   "metadata": {
    "scrolled": false
   },
   "outputs": [],
   "source": [
    "defaultPrediction(KNeighborsClassifier(n_neighbors=NN), yWhite_test, yWhite_train, XWhite_test, XWhite_train)\n",
    "hyperparameterOptimization('KNearest Neighbors (1)', param_grid, rankingWhite, yWhite_test, yWhite_train, XWhite_test, XWhite_train)"
   ]
  },
  {
   "cell_type": "markdown",
   "metadata": {},
   "source": [
    "### 3.2.3) Decision Tree"
   ]
  },
  {
   "cell_type": "markdown",
   "metadata": {},
   "source": [
    "#### Parameter Grid"
   ]
  },
  {
   "cell_type": "code",
   "execution_count": null,
   "metadata": {},
   "outputs": [],
   "source": [
    "param_grid = {'criterion' : ['gini', 'entropy'],\n",
    "              'max_depth': [10, 50, 100, None],\n",
    "              'max_features' : ['auto', 'sqrt', 'log2', None],\n",
    "              'splitter' : ['best', 'random'],\n",
    "              'min_samples_leaf': [1, 2, 4]}"
   ]
  },
  {
   "cell_type": "markdown",
   "metadata": {},
   "source": [
    "#### 3.2.3.1) Both Wines"
   ]
  },
  {
   "cell_type": "code",
   "execution_count": null,
   "metadata": {},
   "outputs": [],
   "source": [
    "y_test, y_train, X_test, X_train, rankingBoth = compareClassifiers(X, y, d)\n",
    "defaultPrediction(DecisionTreeClassifier(), y_test, y_train, X_test, X_train)\n",
    "hyperparameterOptimization('Decision Tree', param_grid, rankingBoth, y_test, y_train, X_test, X_train)"
   ]
  },
  {
   "cell_type": "markdown",
   "metadata": {},
   "source": [
    "#### 3.2.3.2) Red Wine"
   ]
  },
  {
   "cell_type": "code",
   "execution_count": null,
   "metadata": {},
   "outputs": [],
   "source": [
    "yRed_test, yRed_train, XRed_test, XRed_train, rankingRed = compareClassifiers(XRed, yRed, d)\n",
    "defaultPrediction(DecisionTreeClassifier(), yRed_test, yRed_train, XRed_test, XRed_train)\n",
    "hyperparameterOptimization('Decision Tree', param_grid, rankingRed, yRed_test, yRed_train, XRed_test, XRed_train)"
   ]
  },
  {
   "cell_type": "markdown",
   "metadata": {},
   "source": [
    "#### 3.2.3.3) White Wine"
   ]
  },
  {
   "cell_type": "code",
   "execution_count": null,
   "metadata": {},
   "outputs": [],
   "source": [
    "yWhite_test, yWhite_train, XWhite_test, XWhite_train, rankingWhite = compareClassifiers(XWhite, yWhite, d)\n",
    "defaultPrediction(DecisionTreeClassifier(), yWhite_test, yWhite_train, XWhite_test, XWhite_train)\n",
    "hyperparameterOptimization('Decision Tree', param_grid, rankingWhite, yWhite_test, yWhite_train, XWhite_test, XWhite_train)"
   ]
  },
  {
   "cell_type": "markdown",
   "metadata": {},
   "source": [
    "## 3.3) Compare with k-fold cross validation"
   ]
  },
  {
   "cell_type": "code",
   "execution_count": null,
   "metadata": {},
   "outputs": [],
   "source": [
    "def kFoldComp(X, y):\n",
    "    # prepare configuration for cross validation test harness\n",
    "    seed = 7\n",
    "    # prepare models\n",
    "    models = []\n",
    "\n",
    "    models.append(('KNN', KNeighborsClassifier(n_neighbors=1)))\n",
    "    #models.append(('NBayes', GaussianNB()))\n",
    "    models.append(('RandomForest', RandomForestClassifier()))\n",
    "    models.append(('DTree', DecisionTreeClassifier()))\n",
    "    #models.append(('SVM', SVC()))\n",
    "    #models.append(('LRegression', LogisticRegression(max_iter=200)))\n",
    "\n",
    "    # evaluate each model in turn\n",
    "    results = []\n",
    "    names = []\n",
    "    scoring = 'accuracy'\n",
    "    for name, model in models:\n",
    "        kfold = model_selection.KFold(n_splits=10)\n",
    "        cv_results = model_selection.cross_val_score(model, X, y, cv=kfold, scoring=scoring)\n",
    "        results.append(cv_results)\n",
    "        names.append(name)\n",
    "        msg = \"%s: %f (%f)\" % (name, cv_results.mean(), cv_results.std())\n",
    "        print(msg)\n",
    "    # boxplot algorithm comparison\n",
    "    fig = plt.figure()\n",
    "    fig.suptitle('Algorithm Comparison')\n",
    "    ax = fig.add_subplot(111)\n",
    "    plt.boxplot(results)\n",
    "    ax.set_xticklabels(names)\n",
    "    plt.show()\n",
    "    return(results, names)"
   ]
  },
  {
   "cell_type": "code",
   "execution_count": null,
   "metadata": {},
   "outputs": [],
   "source": [
    "results, names = kFoldComp(X, y)"
   ]
  },
  {
   "cell_type": "code",
   "execution_count": null,
   "metadata": {},
   "outputs": [],
   "source": [
    "resultsRed, namesRed = kFoldComp(XRed, yRed)"
   ]
  },
  {
   "cell_type": "code",
   "execution_count": null,
   "metadata": {},
   "outputs": [],
   "source": [
    "resultsWhite, namesWhite = kFoldComp(XWhite, yWhite)"
   ]
  },
  {
   "cell_type": "code",
   "execution_count": null,
   "metadata": {},
   "outputs": [],
   "source": [
    "# boxplot algorithm comparison\n",
    "    fig = plt.figure()\n",
    "    fig.suptitle('Algorithm Comparison')\n",
    "    ax1 = fig.add_subplot(113)\n",
    "    ax1.title(\"Both Wines\")\n",
    "    plt.boxplot(results)\n",
    "    ax1.set_xticklabels(names)\n",
    "    ax2 = fig.add_subplot(213)\n",
    "    ax2.title(\"Red Wines\")\n",
    "    plt.boxplot(resultsRed)\n",
    "    ax2.set_xticklabels(names)\n",
    "    ax3 = fig.add_subplot(313)\n",
    "    ax3.title(\"White Wines\")\n",
    "    plt.boxplot(resultsRed)\n",
    "    ax3.set_xticklabels(names)\n",
    "    plt.show()\n",
    "    return(results, names)"
   ]
  }
 ],
 "metadata": {
  "kernelspec": {
   "display_name": "Python 3",
   "language": "python",
   "name": "python3"
  },
  "language_info": {
   "codemirror_mode": {
    "name": "ipython",
    "version": 3
   },
   "file_extension": ".py",
   "mimetype": "text/x-python",
   "name": "python",
   "nbconvert_exporter": "python",
   "pygments_lexer": "ipython3",
   "version": "3.8.3"
  }
 },
 "nbformat": 4,
 "nbformat_minor": 4
}
