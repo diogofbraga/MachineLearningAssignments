{
 "cells": [
  {
   "cell_type": "markdown",
   "metadata": {},
   "source": [
    "# Amazon Commerce Reviews\n",
    "\n",
    "**Kaggle: 184.702 TU ML WS 20**\n",
    "\n",
    "**Goal: Predict who wrote the review.**"
   ]
  },
  {
   "cell_type": "markdown",
   "metadata": {},
   "source": [
    "### Import Libraries"
   ]
  },
  {
   "cell_type": "code",
   "execution_count": null,
   "metadata": {},
   "outputs": [],
   "source": [
    "import pandas as pd\n",
    "import numpy as np\n",
    "import matplotlib.pyplot as plt\n",
    "import seaborn as sns\n",
    "from scipy import stats\n",
    "from sklearn.feature_selection import SelectPercentile, chi2, SelectFromModel\n",
    "from sklearn import preprocessing\n",
    "from sklearn.preprocessing import StandardScaler, RobustScaler, MinMaxScaler, Normalizer\n",
    "from sklearn import tree\n",
    "from sklearn.model_selection import train_test_split, cross_val_score, GridSearchCV, RandomizedSearchCV\n",
    "from sklearn.metrics import accuracy_score\n",
    "from sklearn.neighbors import KNeighborsClassifier\n",
    "from sklearn.svm import SVC, LinearSVC\n",
    "from sklearn.linear_model import LogisticRegression, SGDClassifier\n",
    "from sklearn.gaussian_process import GaussianProcessClassifier\n",
    "from sklearn.tree import DecisionTreeClassifier\n",
    "from sklearn.ensemble import ExtraTreesClassifier, RandomForestClassifier\n",
    "from sklearn.neural_network import MLPClassifier\n",
    "from sklearn.naive_bayes import GaussianNB\n",
    "import time"
   ]
  },
  {
   "cell_type": "markdown",
   "metadata": {},
   "source": [
    "### Get the Data"
   ]
  },
  {
   "cell_type": "code",
   "execution_count": null,
   "metadata": {},
   "outputs": [],
   "source": [
    "data = pd.read_csv('./184702-tu-ml-ws-20-amazon-commerce-reviews/amazon_review_ID.shuf.lrn.csv')"
   ]
  },
  {
   "cell_type": "code",
   "execution_count": null,
   "metadata": {},
   "outputs": [],
   "source": [
    "data"
   ]
  },
  {
   "cell_type": "markdown",
   "metadata": {},
   "source": [
    "### Basic Data Information"
   ]
  },
  {
   "cell_type": "code",
   "execution_count": null,
   "metadata": {},
   "outputs": [],
   "source": [
    "data.info()"
   ]
  },
  {
   "cell_type": "code",
   "execution_count": null,
   "metadata": {},
   "outputs": [],
   "source": [
    "#data.describe()"
   ]
  },
  {
   "cell_type": "code",
   "execution_count": null,
   "metadata": {},
   "outputs": [],
   "source": [
    "data.describe(include = 'object')"
   ]
  },
  {
   "cell_type": "markdown",
   "metadata": {},
   "source": [
    "### Check Missing Values"
   ]
  },
  {
   "cell_type": "code",
   "execution_count": null,
   "metadata": {},
   "outputs": [],
   "source": [
    "print(data.isnull().sum(axis=0))"
   ]
  },
  {
   "cell_type": "code",
   "execution_count": null,
   "metadata": {},
   "outputs": [],
   "source": [
    "sns.heatmap(data.isnull(), yticklabels=False, cbar=False, cmap='viridis')"
   ]
  },
  {
   "cell_type": "code",
   "execution_count": null,
   "metadata": {},
   "outputs": [],
   "source": [
    "# Remove the target and check if the data is all int64"
   ]
  },
  {
   "cell_type": "markdown",
   "metadata": {},
   "source": [
    "### Exploratory Data Analysis"
   ]
  },
  {
   "cell_type": "markdown",
   "metadata": {},
   "source": [
    "**Class**"
   ]
  },
  {
   "cell_type": "code",
   "execution_count": null,
   "metadata": {},
   "outputs": [],
   "source": [
    "plt.figure(figsize=(20, 8))\n",
    "plt.xticks(rotation=90)\n",
    "sns.set_style('darkgrid')\n",
    "ax = sns.countplot(x = data['Class'])\n",
    "\n",
    "total = len(data['Class'])\n",
    "\n",
    "for p in ax.patches:\n",
    "    height = p.get_height()\n",
    "    ax.text(p.get_x()+p.get_width()/2.,\n",
    "            height + 3,\n",
    "            '{:.1f}%'.format(100 * height/total),\n",
    "            ha=\"center\")"
   ]
  },
  {
   "cell_type": "markdown",
   "metadata": {},
   "source": [
    "### Remove identifiers"
   ]
  },
  {
   "cell_type": "code",
   "execution_count": null,
   "metadata": {},
   "outputs": [],
   "source": [
    "idsTrain = data['ID'].to_frame()\n",
    "data = data.drop('ID',axis=1)"
   ]
  },
  {
   "cell_type": "markdown",
   "metadata": {},
   "source": [
    "### Target Split"
   ]
  },
  {
   "cell_type": "code",
   "execution_count": null,
   "metadata": {},
   "outputs": [],
   "source": [
    "X = data.drop('Class',axis=1)\n",
    "y = data['Class']"
   ]
  },
  {
   "cell_type": "markdown",
   "metadata": {},
   "source": [
    "### Feature Selection\n",
    "\n",
    "**Choose one of the methods:**\n",
    "1. SelectPercentile (chi2)\n",
    "2. SelectFromModel (LinearSVC)\n",
    "3. SelectFromModel (LogisticRegression)\n",
    "3. SelectFromModel (ExtraTreesClassifier)"
   ]
  },
  {
   "cell_type": "code",
   "execution_count": null,
   "metadata": {},
   "outputs": [],
   "source": [
    "featureselection_method = 4"
   ]
  },
  {
   "cell_type": "code",
   "execution_count": null,
   "metadata": {
    "scrolled": true
   },
   "outputs": [],
   "source": [
    "if featureselection_method == 1:\n",
    "    selection = SelectPercentile(chi2, percentile=5)\n",
    "elif featureselection_method == 2:\n",
    "    clf = LinearSVC()\n",
    "    #clf = LinearSVC(C=0.1, penalty=\"l1\", dual=False).fit(X, y)\n",
    "    selection = SelectFromModel(clf, prefit=False)\n",
    "elif featureselection_method == 3:\n",
    "    clf = LogisticRegression()\n",
    "    #clf = LogisticRegression(C=0.2, penalty=\"l2\", dual=False, max_iter=200).fit(X, y)\n",
    "    selection = SelectFromModel(clf, prefit=False)\n",
    "elif featureselection_method == 4:\n",
    "    clf = ExtraTreesClassifier(n_estimators=50).fit(X, y)\n",
    "    selection = SelectFromModel(clf, prefit=False)\n",
    "\n",
    "#clf.feature_importances_ \n",
    "X_transformed = selection.fit_transform(X, y)\n",
    "columns = np.asarray(X.columns.values)\n",
    "support = np.asarray(selection.get_support())\n",
    "columns_with_support = columns[support]\n",
    "X_transformed.shape"
   ]
  },
  {
   "cell_type": "markdown",
   "metadata": {},
   "source": [
    "### Scaling\n",
    "\n",
    "**Choose one of the methods:**\n",
    "1. Standardization (StandardScaler)\n",
    "2. Standardization (RobustScaler)\n",
    "3. MinMaxScaler\n",
    "4. Normalization"
   ]
  },
  {
   "cell_type": "code",
   "execution_count": null,
   "metadata": {},
   "outputs": [],
   "source": [
    "scaling_method = 1"
   ]
  },
  {
   "cell_type": "code",
   "execution_count": null,
   "metadata": {},
   "outputs": [],
   "source": [
    "if scaling_method == 1:\n",
    "    scaler = StandardScaler()\n",
    "    scaler = scaler.fit(X_transformed)\n",
    "    X_scaled = scaler.transform(X_transformed)\n",
    "elif scaling_method == 2:\n",
    "    scaler = RobustScaler()\n",
    "    scaler = scaler.fit(X_transformed)\n",
    "    X_scaled = scaler.transform(X_transformed)\n",
    "elif scaling_method == 3:\n",
    "    scaler = preprocessing.MinMaxScaler()\n",
    "    scaler = scaler.fit(X_transformed)\n",
    "    X_scaled = scaler.transform(X_transformed)\n",
    "elif scaling_method == 4:\n",
    "    scaler = preprocessing.Normalizer()\n",
    "    scaler = scaler.fit(X_transformed)\n",
    "    X_scaled = scaler.transform(X_transformed)"
   ]
  },
  {
   "cell_type": "code",
   "execution_count": null,
   "metadata": {},
   "outputs": [],
   "source": [
    "X_scaled"
   ]
  },
  {
   "cell_type": "markdown",
   "metadata": {},
   "source": [
    "### Outliers Detection"
   ]
  },
  {
   "cell_type": "markdown",
   "metadata": {},
   "source": [
    "**Using mathematical function Z-Score**"
   ]
  },
  {
   "cell_type": "code",
   "execution_count": null,
   "metadata": {
    "scrolled": true
   },
   "outputs": [],
   "source": [
    "z = np.abs(stats.zscore(X_scaled))\n",
    "threshold = 25\n",
    "outliers_rows = np.where(z > threshold)\n",
    "print(np.where(z > threshold))\n",
    "# The first array contains the list of row numbers and second array respective column numbers"
   ]
  },
  {
   "cell_type": "code",
   "execution_count": null,
   "metadata": {},
   "outputs": [],
   "source": [
    "len(set(outliers_rows[0]))"
   ]
  },
  {
   "cell_type": "markdown",
   "metadata": {},
   "source": [
    "### Data Preparation"
   ]
  },
  {
   "cell_type": "markdown",
   "metadata": {},
   "source": [
    "**Remove the identified outliers**"
   ]
  },
  {
   "cell_type": "code",
   "execution_count": null,
   "metadata": {},
   "outputs": [],
   "source": [
    "X_prepared = X_scaled[(np.abs(stats.zscore(X_scaled)) < threshold).all(axis=1)]\n",
    "X_prepared.shape"
   ]
  },
  {
   "cell_type": "code",
   "execution_count": null,
   "metadata": {},
   "outputs": [],
   "source": [
    "y = y.drop(outliers_rows[0])\n",
    "y.shape"
   ]
  },
  {
   "cell_type": "markdown",
   "metadata": {},
   "source": [
    "### Train Dataset Split"
   ]
  },
  {
   "cell_type": "code",
   "execution_count": null,
   "metadata": {},
   "outputs": [],
   "source": [
    "y = y.to_numpy()"
   ]
  },
  {
   "cell_type": "code",
   "execution_count": null,
   "metadata": {},
   "outputs": [],
   "source": [
    "X_train, X_test, y_train, y_test = train_test_split(X_prepared, y, test_size=0.30)"
   ]
  },
  {
   "cell_type": "markdown",
   "metadata": {},
   "source": [
    "### Models Prediction\n",
    "\n",
    "**Types:**\n",
    "- Linear Classifiers: Logistic Regression, Naive Bayes Classifier\n",
    "- Nearest Neighbor\n",
    "- Support Vector Machines\n",
    "- Decision Trees\n",
    "- Random Forest\n",
    "- Neural Networks"
   ]
  },
  {
   "cell_type": "code",
   "execution_count": null,
   "metadata": {},
   "outputs": [],
   "source": [
    "d = {}\n",
    "\n",
    "d[\"Logistic Regression\"] = LogisticRegression(max_iter=200)\n",
    "d[\"Gaussian Naive Bayes\"] = GaussianNB()\n",
    "\n",
    "d[\"KNearest Neighbors (5)\"] = KNeighborsClassifier()\n",
    "\n",
    "d[\"SVM rbf\"] = SVC()\n",
    "d[\"SGD Classifier\"] = SGDClassifier()\n",
    "\n",
    "d[\"Decision Tree\"] = DecisionTreeClassifier()\n",
    "\n",
    "d[\"Random Forest\"] = RandomForestClassifier()\n",
    "\n",
    "d[\"Multi-layer Perceptron Classifier\"] = MLPClassifier(max_iter=1000)"
   ]
  },
  {
   "cell_type": "code",
   "execution_count": null,
   "metadata": {},
   "outputs": [],
   "source": [
    "bestPrediction = 0\n",
    "for name, clf in d.items():\n",
    "    start = time.time()\n",
    "    clf.fit(X_train, y_train)\n",
    "    predictions = clf.predict(X_test)\n",
    "    score = accuracy_score(y_test, predictions)\n",
    "    if score > bestPrediction:\n",
    "        bestPrediction = score\n",
    "        bestClassifierName = name\n",
    "    end = time.time()\n",
    "    print(name, \"- Accuracy: %0.3f\" % score, \"- Time: %0.2f\" % (end - start), \"seconds\")\n",
    "\n",
    "print(\"###############\")\n",
    "print(\"Best Classifier:\", bestClassifierName)"
   ]
  },
  {
   "cell_type": "code",
   "execution_count": null,
   "metadata": {},
   "outputs": [],
   "source": [
    "stop1"
   ]
  },
  {
   "cell_type": "markdown",
   "metadata": {},
   "source": [
    "### Best Classifiers\n",
    "- Logistic Regression\n",
    "- Random Forest\n",
    "- SGD Classifier\n",
    "- Multi-layer Perceptron Classifier"
   ]
  },
  {
   "cell_type": "markdown",
   "metadata": {},
   "source": [
    "### Hyperparameter optimization (incomplete)"
   ]
  },
  {
   "cell_type": "code",
   "execution_count": null,
   "metadata": {},
   "outputs": [],
   "source": [
    "if bestClassifierName == 'Logistic Regression':\n",
    "    param_grid = {\n",
    "    'penalty' : ['l1','l2'],\n",
    "    'C': [0.1, 1, 10], \n",
    "    'max_iter': [100, 1000]}\n",
    "    param_randomized = {}\n",
    "elif bestClassifierName == 'Random Forest':\n",
    "    param_grid = {\n",
    "    'n_estimators' : [100, 1000],\n",
    "    'max_depth' : [1, 10, 20, None]} \n",
    "    param_randomized = {}\n",
    "elif bestClassifierName == 'SGD Classifier':\n",
    "    param_grid = {} \n",
    "    param_randomized = {}\n",
    "elif bestClassifierName == 'Multi-layer Perceptron Classifier':\n",
    "    param_grid = {} \n",
    "    param_randomized = {}"
   ]
  },
  {
   "cell_type": "markdown",
   "metadata": {},
   "source": [
    "**GridSearchCV**"
   ]
  },
  {
   "cell_type": "code",
   "execution_count": null,
   "metadata": {
    "scrolled": true
   },
   "outputs": [],
   "source": [
    "start = time.time()\n",
    "clf_gridsearch = GridSearchCV(d.get(bestClassifierName), param_grid, verbose=0)\n",
    "clf_gridsearch.fit(X_train, y_train)\n",
    "print(clf_gridsearch.best_params_)\n",
    "predictions = clf_gridsearch.predict(X_test)\n",
    "score_gridsearch = accuracy_score(y_test, predictions)\n",
    "end = time.time()\n",
    "print(bestClassifierName, \"GridSearchCV - Accuracy: %0.3f\" % score_gridsearch, \"- Time: %0.2f\" % (end - start), \"seconds\")"
   ]
  },
  {
   "cell_type": "markdown",
   "metadata": {},
   "source": [
    "**RandomizedSearchCV**"
   ]
  },
  {
   "cell_type": "code",
   "execution_count": null,
   "metadata": {
    "scrolled": true
   },
   "outputs": [],
   "source": [
    "start = time.time()\n",
    "clf_randomizedsearch = RandomizedSearchCV(d.get(bestClassifierName), param_randomized, random_state=0)\n",
    "clf_randomizedsearch.fit(X_train, y_train)\n",
    "print(clf_randomizedsearch.best_params_)\n",
    "predictions = clf_randomizedsearch.predict(X_test)\n",
    "score_randomizedsearch = accuracy_score(y_test, predictions)\n",
    "end = time.time()\n",
    "print(bestClassifierName, \"RandomizedSearchCV - Accuracy: %0.3f\" % score_randomizedsearch, \"- Time: %0.2f\" % (end - start), \"seconds\")"
   ]
  },
  {
   "cell_type": "code",
   "execution_count": null,
   "metadata": {},
   "outputs": [],
   "source": [
    "if score_gridsearch > score_randomizedsearch:\n",
    "    clf = clf_gridsearch.best_estimator_\n",
    "else:\n",
    "    clf = clf_randomizedsearch.best_estimator_"
   ]
  },
  {
   "cell_type": "code",
   "execution_count": null,
   "metadata": {},
   "outputs": [],
   "source": [
    "stop2"
   ]
  },
  {
   "cell_type": "markdown",
   "metadata": {},
   "source": [
    "**Best Classifier with Hyper Parametrization**"
   ]
  },
  {
   "cell_type": "code",
   "execution_count": null,
   "metadata": {},
   "outputs": [],
   "source": [
    "clf"
   ]
  },
  {
   "cell_type": "markdown",
   "metadata": {},
   "source": [
    "### Test Data"
   ]
  },
  {
   "cell_type": "code",
   "execution_count": null,
   "metadata": {},
   "outputs": [],
   "source": [
    "testData = pd.read_csv('./184702-tu-ml-ws-20-amazon-commerce-reviews/amazon_review_ID.shuf.tes.csv')"
   ]
  },
  {
   "cell_type": "code",
   "execution_count": null,
   "metadata": {},
   "outputs": [],
   "source": [
    "testData"
   ]
  },
  {
   "cell_type": "markdown",
   "metadata": {},
   "source": [
    "**Remove identifiers**"
   ]
  },
  {
   "cell_type": "code",
   "execution_count": null,
   "metadata": {},
   "outputs": [],
   "source": [
    "idsTest = testData['ID'].to_frame()\n",
    "testData = testData.drop('ID',axis=1)"
   ]
  },
  {
   "cell_type": "markdown",
   "metadata": {},
   "source": [
    "**Feature selection based on Training Data**"
   ]
  },
  {
   "cell_type": "code",
   "execution_count": null,
   "metadata": {},
   "outputs": [],
   "source": [
    "testData_transformed = testData.loc[:, columns_with_support]"
   ]
  },
  {
   "cell_type": "markdown",
   "metadata": {},
   "source": [
    "**Data pre-processing based on Training Data**"
   ]
  },
  {
   "cell_type": "code",
   "execution_count": null,
   "metadata": {},
   "outputs": [],
   "source": [
    "testData_scaled = scaler.transform(testData_transformed)"
   ]
  },
  {
   "cell_type": "markdown",
   "metadata": {},
   "source": [
    "**Fit Classifier in all Training Data**"
   ]
  },
  {
   "cell_type": "code",
   "execution_count": null,
   "metadata": {},
   "outputs": [],
   "source": [
    "clf = clf.fit(X_prepared, y)"
   ]
  },
  {
   "cell_type": "markdown",
   "metadata": {},
   "source": [
    "### Final Prediction"
   ]
  },
  {
   "cell_type": "code",
   "execution_count": null,
   "metadata": {},
   "outputs": [],
   "source": [
    "predictions = clf.predict(testData_scaled)"
   ]
  },
  {
   "cell_type": "code",
   "execution_count": null,
   "metadata": {},
   "outputs": [],
   "source": [
    "predictions"
   ]
  },
  {
   "cell_type": "markdown",
   "metadata": {},
   "source": [
    "### Join IDs to create Submission Dataset"
   ]
  },
  {
   "cell_type": "code",
   "execution_count": null,
   "metadata": {},
   "outputs": [],
   "source": [
    "predictions = pd.DataFrame(predictions, columns=['Class']) "
   ]
  },
  {
   "cell_type": "code",
   "execution_count": null,
   "metadata": {},
   "outputs": [],
   "source": [
    "result = pd.concat([idsTest,predictions], axis=1)"
   ]
  },
  {
   "cell_type": "code",
   "execution_count": null,
   "metadata": {},
   "outputs": [],
   "source": [
    "result"
   ]
  },
  {
   "cell_type": "code",
   "execution_count": null,
   "metadata": {},
   "outputs": [],
   "source": [
    "result.to_csv('submission.csv', index=False)"
   ]
  },
  {
   "cell_type": "code",
   "execution_count": null,
   "metadata": {},
   "outputs": [],
   "source": []
  }
 ],
 "metadata": {
  "kernelspec": {
   "display_name": "Python 3",
   "language": "python",
   "name": "python3"
  },
  "language_info": {
   "codemirror_mode": {
    "name": "ipython",
    "version": 3
   },
   "file_extension": ".py",
   "mimetype": "text/x-python",
   "name": "python",
   "nbconvert_exporter": "python",
   "pygments_lexer": "ipython3",
   "version": "3.8.3"
  }
 },
 "nbformat": 4,
 "nbformat_minor": 4
}
